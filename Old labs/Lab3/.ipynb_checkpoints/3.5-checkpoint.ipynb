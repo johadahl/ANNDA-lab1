{
 "cells": [
  {
   "cell_type": "code",
   "execution_count": 79,
   "metadata": {
    "collapsed": false
   },
   "outputs": [],
   "source": [
    "import numpy as np\n",
    "from matplotlib import pyplot as plt\n",
    "\n",
    "\n",
    "data = np.loadtxt('./pict.dat',delimiter=\",\", dtype=int).reshape(-1,1024)\n",
    "\n",
    "\n",
    "def init_weights(patterns):\n",
    "    dim = patterns.shape[1]\n",
    "    w=np.zeros((dim,dim))\n",
    "    \n",
    "    for i in range(dim):\n",
    "        for j in range(dim):\n",
    "            s = 0\n",
    "            for pattern in patterns:\n",
    "                s += pattern[i]*pattern[j]\n",
    "            w[i][j]=(1/dim)*s\n",
    "    \n",
    "    return w\n",
    "\n",
    "def recall(pattern,w):\n",
    "    dim = pattern.size\n",
    "    count = 0\n",
    "    energyLevels = []\n",
    "    \n",
    "    previousPattern = np.zeros(dim)\n",
    "    while True:   \n",
    "        \n",
    "        s = np.dot(w,pattern)\n",
    "        s[s >= 0] = 1\n",
    "        s[s < 0] = -1\n",
    "                    \n",
    "        pattern=s\n",
    "        \n",
    "        count += 1  \n",
    "        \n",
    "        #plt.imshow(pattern.reshape(32,32),interpolation=\"nearest\")\n",
    "        #plt.show()\n",
    "        \n",
    "        \n",
    "        if check_True(pattern):\n",
    "            print (\"It took:\",count,\"nr of iterations\")\n",
    "            plt.imshow(pattern.reshape(32,32),interpolation=\"nearest\")\n",
    "            plt.show()\n",
    "            break\n",
    "  \n",
    "        elif np.array_equal(pattern,previousPattern):\n",
    "            print(\"Local minimum found in iteration:\",count)\n",
    "            plt.imshow(pattern.reshape(32,32),interpolation=\"nearest\")\n",
    "            plt.show()\n",
    "            break\n",
    "            \n",
    "        previousPattern = np.copy(pattern)\n",
    "\n",
    "def check_True(predicted_pattern):\n",
    "    solved = False\n",
    "    for i in range(patterns.shape[0]):\n",
    "        if np.array_equal(patterns[i],predicted_pattern):\n",
    "            #print(\"True! It matched pattern nr:\",i)\n",
    "            solved = True\n",
    "    return solved\n",
    "\n",
    "def flip(pattern, percentage):\n",
    "    index = np.arange(pattern.size)\n",
    "    np.random.shuffle(index)\n",
    "    \n",
    "    abso = int(percentage*pattern.size)\n",
    "    flipIndex = index[:abso]\n",
    "    \n",
    "    flipped = np.copy(pattern)\n",
    "    flipped[flipIndex] = -1*flipped[flipIndex]\n",
    "    \n",
    "    #plt.imshow(flipped.reshape(32,32),interpolation=\"nearest\")\n",
    "    #plt.show()\n",
    "    \n",
    "    return flipped"
   ]
  },
  {
   "cell_type": "markdown",
   "metadata": {},
   "source": [
    "## Investigate Capacity\n",
    "Here we want to investigate how many pictures the network is able to store"
   ]
  },
  {
   "cell_type": "code",
   "execution_count": 80,
   "metadata": {
    "collapsed": true
   },
   "outputs": [],
   "source": [
    "patterns = data[:9,:]\n",
    "correctList = []"
   ]
  },
  {
   "cell_type": "code",
   "execution_count": 81,
   "metadata": {
    "collapsed": false
   },
   "outputs": [
    {
     "ename": "AttributeError",
     "evalue": "'NoneType' object has no attribute 'shape'",
     "output_type": "error",
     "traceback": [
      "\u001b[0;31m---------------------------------------------------------------------------\u001b[0m",
      "\u001b[0;31mAttributeError\u001b[0m                            Traceback (most recent call last)",
      "\u001b[0;32m<ipython-input-81-5b4bc2c9e626>\u001b[0m in \u001b[0;36m<module>\u001b[0;34m()\u001b[0m\n\u001b[0;32m----> 1\u001b[0;31m \u001b[0mw\u001b[0m \u001b[0;34m=\u001b[0m \u001b[0mnew_init_weights\u001b[0m\u001b[0;34m(\u001b[0m\u001b[0mpatterns\u001b[0m\u001b[0;34m)\u001b[0m\u001b[0;34m\u001b[0m\u001b[0m\n\u001b[0m",
      "\u001b[0;32m<ipython-input-66-da0782769799>\u001b[0m in \u001b[0;36mnew_init_weights\u001b[0;34m(patterns, distPatterns, zeroDiag)\u001b[0m\n\u001b[1;32m     13\u001b[0m         \u001b[0mcorrectList\u001b[0m\u001b[0;34m.\u001b[0m\u001b[0mappend\u001b[0m\u001b[0;34m(\u001b[0m\u001b[0mexperiment\u001b[0m\u001b[0;34m(\u001b[0m\u001b[0mw\u001b[0m\u001b[0;34m,\u001b[0m\u001b[0mi\u001b[0m\u001b[0;34m,\u001b[0m\u001b[0mpatterns\u001b[0m\u001b[0;34m)\u001b[0m\u001b[0;34m)\u001b[0m\u001b[0;34m\u001b[0m\u001b[0m\n\u001b[1;32m     14\u001b[0m         \u001b[0;32mif\u001b[0m\u001b[0;34m(\u001b[0m\u001b[0mtype\u001b[0m\u001b[0;34m(\u001b[0m\u001b[0mdistPatterns\u001b[0m\u001b[0;34m)\u001b[0m \u001b[0;34m!=\u001b[0m \u001b[0;32mNone\u001b[0m\u001b[0;34m)\u001b[0m\u001b[0;34m:\u001b[0m\u001b[0;34m\u001b[0m\u001b[0m\n\u001b[0;32m---> 15\u001b[0;31m             \u001b[0mcorrectDistList\u001b[0m\u001b[0;34m.\u001b[0m\u001b[0mappend\u001b[0m\u001b[0;34m(\u001b[0m\u001b[0mexperiment\u001b[0m\u001b[0;34m(\u001b[0m\u001b[0mw\u001b[0m\u001b[0;34m,\u001b[0m\u001b[0mi\u001b[0m\u001b[0;34m,\u001b[0m\u001b[0mdistPatterns\u001b[0m\u001b[0;34m)\u001b[0m\u001b[0;34m)\u001b[0m\u001b[0;34m\u001b[0m\u001b[0m\n\u001b[0m\u001b[1;32m     16\u001b[0m     \u001b[0;32mreturn\u001b[0m \u001b[0mw\u001b[0m\u001b[0;34m,\u001b[0m \u001b[0mcorrectList\u001b[0m\u001b[0;34m,\u001b[0m \u001b[0mcorrectDistList\u001b[0m\u001b[0;34m\u001b[0m\u001b[0m\n\u001b[1;32m     17\u001b[0m \u001b[0;34m\u001b[0m\u001b[0m\n",
      "\u001b[0;32m<ipython-input-66-da0782769799>\u001b[0m in \u001b[0;36mexperiment\u001b[0;34m(w, iterations, patterns, plsReturn)\u001b[0m\n\u001b[1;32m     17\u001b[0m \u001b[0;34m\u001b[0m\u001b[0m\n\u001b[1;32m     18\u001b[0m \u001b[0;32mdef\u001b[0m \u001b[0mexperiment\u001b[0m\u001b[0;34m(\u001b[0m\u001b[0mw\u001b[0m\u001b[0;34m,\u001b[0m\u001b[0miterations\u001b[0m\u001b[0;34m,\u001b[0m\u001b[0mpatterns\u001b[0m\u001b[0;34m,\u001b[0m\u001b[0mplsReturn\u001b[0m\u001b[0;34m=\u001b[0m\u001b[0;32mFalse\u001b[0m\u001b[0;34m)\u001b[0m\u001b[0;34m:\u001b[0m\u001b[0;34m\u001b[0m\u001b[0m\n\u001b[0;32m---> 19\u001b[0;31m     \u001b[0mN\u001b[0m \u001b[0;34m=\u001b[0m \u001b[0mpatterns\u001b[0m\u001b[0;34m.\u001b[0m\u001b[0mshape\u001b[0m\u001b[0;34m[\u001b[0m\u001b[0;36m0\u001b[0m\u001b[0;34m]\u001b[0m \u001b[0;31m#Nr of patterns\u001b[0m\u001b[0;34m\u001b[0m\u001b[0m\n\u001b[0m\u001b[1;32m     20\u001b[0m     \u001b[0moutcomeList\u001b[0m \u001b[0;34m=\u001b[0m \u001b[0;34m[\u001b[0m\u001b[0;34m]\u001b[0m\u001b[0;34m\u001b[0m\u001b[0m\n\u001b[1;32m     21\u001b[0m \u001b[0;34m\u001b[0m\u001b[0m\n",
      "\u001b[0;31mAttributeError\u001b[0m: 'NoneType' object has no attribute 'shape'"
     ]
    }
   ],
   "source": [
    "w = new_init_weights(patterns)"
   ]
  },
  {
   "cell_type": "code",
   "execution_count": null,
   "metadata": {
    "collapsed": false
   },
   "outputs": [],
   "source": [
    "plt.imshow(patterns[5].reshape(32,32),interpolation=\"nearest\")\n",
    "plt.show()"
   ]
  },
  {
   "cell_type": "code",
   "execution_count": null,
   "metadata": {
    "collapsed": true
   },
   "outputs": [],
   "source": []
  },
  {
   "cell_type": "code",
   "execution_count": null,
   "metadata": {
    "collapsed": true
   },
   "outputs": [],
   "source": []
  },
  {
   "cell_type": "markdown",
   "metadata": {},
   "source": [
    "### Now the same thing with some random patterns"
   ]
  },
  {
   "cell_type": "code",
   "execution_count": null,
   "metadata": {
    "collapsed": false
   },
   "outputs": [],
   "source": [
    "random_patterns = []\n",
    "nrOfVectors=144\n",
    "for i in range(nrOfVectors):\n",
    "    random_patterns.append(genRandVector(1024))\n",
    "random_patterns = np.array(random_patterns)\n",
    "\n",
    "correctList = [] #Global variable"
   ]
  },
  {
   "cell_type": "code",
   "execution_count": null,
   "metadata": {
    "collapsed": false
   },
   "outputs": [],
   "source": [
    "w_rand = new_init_weights(random_patterns)"
   ]
  },
  {
   "cell_type": "markdown",
   "metadata": {},
   "source": [
    "# 300 random patterns in a 100-unit network\n",
    "\n",
    "In the section we're exploring how the stableness of stored patterns changes as the nr of patterns in the weight-matrix increases"
   ]
  },
  {
   "cell_type": "code",
   "execution_count": null,
   "metadata": {
    "collapsed": false
   },
   "outputs": [],
   "source": [
    "def new_init_weights(patterns,distPatterns=None,zeroDiag=False):\n",
    "    dim = patterns.shape[1]\n",
    "    n = patterns.shape[0]\n",
    "    w=np.zeros((dim,dim))\n",
    "    \n",
    "    correctList = []\n",
    "    correctDistList = []\n",
    "    \n",
    "    for i in range(n): \n",
    "        w+=1/dim*np.multiply.outer(patterns[i],patterns[i])\n",
    "        if(zeroDiag):\n",
    "            np.fill_diagonal(w,0)\n",
    "        correctList.append(experiment(w,i,patterns))\n",
    "        if(type(distPatterns) != None):\n",
    "            correctDistList.append(experiment(w,i,distPatterns))\n",
    "    return w, correctList, correctDistList\n",
    "\n",
    "def experiment(w,iterations,patterns,plsReturn=False):\n",
    "    N = patterns.shape[0] #Nr of patterns \n",
    "    outcomeList = []\n",
    "    \n",
    "    #Iterate over the amount of patterns that have been inserted to w\n",
    "    for i in range(iterations+1):\n",
    "        outcome = checkStable(patterns[i],w)\n",
    "        outcomeList.append(outcome)\n",
    "\n",
    "    unique,counts=np.unique(np.array(outcomeList),return_counts=True)\n",
    "    a = dict(zip(unique, counts))\n",
    "    #print(\"***With\",iterations+1,\"nr of patterns in w-matrix***\")\n",
    "    if True in a:\n",
    "        #print(a[True],\"of patterns remained stable\\n\")\n",
    "        #correctList.append(a[True])\n",
    "        return a[True]\n",
    "    else:\n",
    "        #print(\"none remained stable\\n\")\n",
    "        #correctList.append(0)\n",
    "        return 0\n",
    "    if(plsReturn):\n",
    "        return correctList\n",
    "        \n",
    "#Checks if pattern changes during one iteration, if not it's stable\n",
    "def checkStable(pattern,w): \n",
    "    s = np.dot(w,pattern)\n",
    "    s[s >= 0] = 1\n",
    "    s[s < 0] = -1\n",
    "\n",
    "    if(np.array_equal(pattern,s)):\n",
    "        return True\n",
    "    else:\n",
    "        return False\n",
    "        \n",
    "def genRandVector(dim):\n",
    "    dim = int(dim/2)\n",
    "    randVector = np.concatenate([np.ones(dim),-1*np.ones(dim)])\n",
    "    np.random.shuffle(randVector)\n",
    "    #print(randVector)\n",
    "    return randVector"
   ]
  },
  {
   "cell_type": "code",
   "execution_count": 87,
   "metadata": {
    "collapsed": false
   },
   "outputs": [],
   "source": [
    "#Generate patterns and distorted versions of them\n",
    "\n",
    "patterns = []\n",
    "nrOfVectors=300\n",
    "for i in range(nrOfVectors):\n",
    "    patterns.append(genRandVector(144)) #Gets a 100 unit vector\n",
    "patterns = np.array(patterns)\n",
    "\n",
    "flipped_patterns = []\n",
    "for pat in patterns:\n",
    "    flipped_patterns.append(flip(pat,0.02))\n",
    "flipped_patterns = np.array(flipped_patterns)"
   ]
  },
  {
   "cell_type": "code",
   "execution_count": 88,
   "metadata": {
    "collapsed": false
   },
   "outputs": [],
   "source": [
    "#Train on the patterns\n",
    "w_1,correctList, correctDistList = new_init_weights(patterns,flipped_patterns)"
   ]
  },
  {
   "cell_type": "code",
   "execution_count": 89,
   "metadata": {
    "collapsed": false
   },
   "outputs": [
    {
     "name": "stdout",
     "output_type": "stream",
     "text": [
      "range(1, 301)\n"
     ]
    }
   ],
   "source": [
    "print(range(1,len(correctList)+1))"
   ]
  },
  {
   "cell_type": "code",
   "execution_count": 90,
   "metadata": {
    "collapsed": false
   },
   "outputs": [
    {
     "data": {
      "image/png": "[encoded data removed]",
      "text/plain": [
       "<matplotlib.figure.Figure at 0x10e43e2b0>"
      ]
     },
     "metadata": {},
     "output_type": "display_data"
    }
   ],
   "source": [
    "x = range(1,len(correctList)+1)\n",
    "y = np.divide(np.array(correctList),x)\n",
    "plt.plot(x,y)\n",
    "plt.title(\"Amount of stable patterns per pattern in w\")\n",
    "plt.show()"
   ]
  },
  {
   "cell_type": "markdown",
   "metadata": {},
   "source": [
    "### Plot the distorted patterns"
   ]
  },
  {
   "cell_type": "code",
   "execution_count": null,
   "metadata": {
    "collapsed": false
   },
   "outputs": [],
   "source": []
  },
  {
   "cell_type": "code",
   "execution_count": 91,
   "metadata": {
    "collapsed": false
   },
   "outputs": [
    {
     "data": {
      "image/png": "[encoded data removed]",
      "text/plain": [
       "<matplotlib.figure.Figure at 0x10f951cf8>"
      ]
     },
     "metadata": {},
     "output_type": "display_data"
    }
   ],
   "source": [
    "x1 = range(1,len(correctDistList)+1)\n",
    "y1 = np.divide(np.array(correctDistList),x)\n",
    "plt.plot(x,y)\n",
    "plt.plot(x1,y1)\n",
    "plt.title(\"Amount of stable patterns per pattern in w when patterns are distorted\")\n",
    "plt.show()"
   ]
  },
  {
   "cell_type": "markdown",
   "metadata": {
    "collapsed": false
   },
   "source": [
    "### Adding a 0-diagonal t"
   ]
  },
  {
   "cell_type": "code",
   "execution_count": 51,
   "metadata": {
    "collapsed": false
   },
   "outputs": [],
   "source": [
    "w_2, correctList0, correctDistList0 = new_init_weights(patterns,flipped_patterns,zeroDiag=True)"
   ]
  },
  {
   "cell_type": "code",
   "execution_count": 52,
   "metadata": {
    "collapsed": false
   },
   "outputs": [
    {
     "data": {
      "image/png": "[encoded data removed]",
      "text/plain": [
       "<matplotlib.figure.Figure at 0x111ac97b8>"
      ]
     },
     "metadata": {},
     "output_type": "display_data"
    }
   ],
   "source": [
    "plt.plot(range(len(correctList0)),correctList0)\n",
    "plt.title(\"Amount of stable patterns per pattern in w with diagonalized w\")\n",
    "plt.show()"
   ]
  },
  {
   "cell_type": "markdown",
   "metadata": {
    "collapsed": false
   },
   "source": [
    "### Plot the distorted..."
   ]
  },
  {
   "cell_type": "code",
   "execution_count": 54,
   "metadata": {
    "collapsed": false
   },
   "outputs": [
    {
     "data": {
      "image/png": "[encoded data removed]",
      "text/plain": [
       "<matplotlib.figure.Figure at 0x110f29e10>"
      ]
     },
     "metadata": {},
     "output_type": "display_data"
    }
   ],
   "source": [
    "plt.plot(range(len(correctDistList0)),correctDistList0)\n",
    "plt.title(\"Amount of stable patterns per pattern in w\\n with diagonalized w and distorted patterns\")\n",
    "plt.show()"
   ]
  },
  {
   "cell_type": "markdown",
   "metadata": {},
   "source": [
    "## Now we add bias to the equation..."
   ]
  },
  {
   "cell_type": "code",
   "execution_count": 57,
   "metadata": {
    "collapsed": false
   },
   "outputs": [],
   "source": [
    "biased_patterns = np.sign(0.5+np.random.randn(300,144))\n",
    "w_3, correctList, _ = new_init_weights(biased_patterns)"
   ]
  },
  {
   "cell_type": "code",
   "execution_count": 58,
   "metadata": {
    "collapsed": false
   },
   "outputs": [
    {
     "data": {
      "image/png": "[encoded data removed]",
      "text/plain": [
       "<matplotlib.figure.Figure at 0x1118b6a58>"
      ]
     },
     "metadata": {},
     "output_type": "display_data"
    }
   ],
   "source": [
    "plt.plot(range(len(correctList)),correctList)\n",
    "plt.title(\"Amount of stable patterns per pattern in w\\n with biased patterns\")\n",
    "plt.show()"
   ]
  },
  {
   "cell_type": "code",
   "execution_count": null,
   "metadata": {
    "collapsed": false
   },
   "outputs": [],
   "source": []
  },
  {
   "cell_type": "code",
   "execution_count": null,
   "metadata": {
    "collapsed": true
   },
   "outputs": [],
   "source": []
  }
 ],
 "metadata": {
  "kernelspec": {
   "display_name": "Python 3",
   "language": "python",
   "name": "python3"
  },
  "language_info": {
   "codemirror_mode": {
    "name": "ipython",
    "version": 3
   },
   "file_extension": ".py",
   "mimetype": "text/x-python",
   "name": "python",
   "nbconvert_exporter": "python",
   "pygments_lexer": "ipython3",
   "version": "3.6.0"
  }
 },
 "nbformat": 4,
 "nbformat_minor": 2
}
