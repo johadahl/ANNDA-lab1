{
 "cells": [
  {
   "cell_type": "code",
   "execution_count": 1,
   "metadata": {
    "collapsed": true
   },
   "outputs": [],
   "source": [
    "import numpy as np\n",
    "import matplotlib.pyplot as plt\n",
    "from scipy import signal\n",
    "import math,random\n",
    "np.random.seed(42)"
   ]
  },
  {
   "cell_type": "code",
   "execution_count": 2,
   "metadata": {
    "collapsed": true
   },
   "outputs": [],
   "source": [
    "#Read data\n",
    "trainData = np.loadtxt('./data_lab2/ballist.dat')\n",
    "testData = np.loadtxt('./data_lab2/balltest.dat')\n",
    "\n",
    "train_X = trainData[:,:2]\n",
    "train_y = trainData[:,2:]\n",
    "\n",
    "test_X = testData[:,:2]\n",
    "test_y = testData[:,2:]"
   ]
  },
  {
   "cell_type": "code",
   "execution_count": 3,
   "metadata": {
    "collapsed": false
   },
   "outputs": [
    {
     "data": {
      "text/plain": [
       "array([ 0.896,  0.54 ])"
      ]
     },
     "execution_count": 3,
     "metadata": {},
     "output_type": "execute_result"
    }
   ],
   "source": [
    "train_X[0]"
   ]
  },
  {
   "cell_type": "code",
   "execution_count": 4,
   "metadata": {
    "collapsed": false
   },
   "outputs": [
    {
     "data": {
      "image/png": "[encoded data removed]",
      "text/plain": [
       "<matplotlib.figure.Figure at 0x1180167f0>"
      ]
     },
     "metadata": {},
     "output_type": "display_data"
    }
   ],
   "source": [
    "plt.scatter(train_X[:,0],train_X[:,1])\n",
    "plt.show()"
   ]
  },
  {
   "cell_type": "code",
   "execution_count": 5,
   "metadata": {
    "collapsed": false
   },
   "outputs": [
    {
     "data": {
      "image/png": "[encoded data removed]",
      "text/plain": [
       "<matplotlib.figure.Figure at 0x11821aba8>"
      ]
     },
     "metadata": {},
     "output_type": "display_data"
    }
   ],
   "source": [
    "plt.scatter(train_y[:,0],train_y[:,1])\n",
    "plt.show()"
   ]
  },
  {
   "cell_type": "code",
   "execution_count": 12,
   "metadata": {
    "collapsed": false
   },
   "outputs": [],
   "source": [
    "class DeltaRule:\n",
    "    def __init__(self, train, trainTarget, prototypes, step=0.01, maxEpoch=200):\n",
    "        self.train = train\n",
    "        self.trainTarget = trainTarget\n",
    "        self.prototypes = prototypes\n",
    "        self.nodes = prototypes.size\n",
    "        self.step = step\n",
    "        self.beta = np.ones(self.prototypes.shape) #Variance - now set to equal for all\n",
    "        #self.beta = setBeta()\n",
    "        self.weights = np.ones(self.prototypes.shape)\n",
    "        self.epoch = 0\n",
    "        self.maxEpoch = maxEpoch\n",
    "        self.errThreshold = 0.1\n",
    "        self.mainLoop()\n",
    "    \n",
    "    \n",
    "    def setBeta(self):\n",
    "        total = 0\n",
    "        for i in range(self.prototypes.shape[0]-1):\n",
    "            total += abs(self.prototypes[i] - self.prototypes[i+1])\n",
    "        averageDistance = total/(self.prototypes.size-1)\n",
    "        return np.repeat(averageDistance, self.prototypes.size)\n",
    "        \n",
    "    def mainLoop(self):\n",
    "        while self.epoch < self.maxEpoch:\n",
    "            for j in range(self.train.shape[0]):\n",
    "                #i next int\n",
    "                i = random.randint(0,self.train.shape[0]-1) \n",
    "                self.weights += self.deltaWeights(i)\n",
    "                #print(self.weights)\n",
    "                if self.residualError(self.train, self.trainTarget) < self.errThreshold:\n",
    "                    return\n",
    "            self.epoch += 1\n",
    "            #if self.epoch%20 == 0:\n",
    "            plt.plot(self.epoch, self.residualError(self.train, self.trainTarget),marker=\"o\", color=\"b\")\n",
    "        plt.show()\n",
    "            \n",
    "            \n",
    "    def deltaWeights(self, index):\n",
    "        #a - Kanske upphöjt till två?\n",
    "        activations = self.activation(self.train[index])\n",
    "        #a = self.trainTarget[index] - np.dot(activations, self.weights)\n",
    "        a = self.trainTarget[index] - np.multiply(activations, self.weights)\n",
    "        #print(\"A-shape: \",a)\n",
    "        b = self.step * a\n",
    "        delta_w = b * self.activation(self.train[index])\n",
    "        \n",
    "        return delta_w\n",
    "    \n",
    "    def activation(self, pattern): \n",
    "        \"\"\"Gauss simplified e^(-beta(x-mu)^2). Calculates for each row\"\"\"\n",
    "        activations = np.e**(np.multiply(-1*self.beta, (pattern-self.prototypes)**2)) \n",
    "        \n",
    "        #3 vikter ska uppdateras        \n",
    "        #1a\n",
    "        bestActivationIndex1 = np.argmax(activations[:,0])\n",
    "        activations[bestActivationIndex1]=0\n",
    "        \n",
    "        #2a\n",
    "        bestActivationIndex2 = np.argmax(activations[:,1])\n",
    "        activations[bestActivationIndex2]=0\n",
    "        \n",
    "        activations = np.zeros_like(activations)\n",
    "        activations[bestActivationIndex1]=[1,1]\n",
    "        activations[bestActivationIndex2]=[1,1]\n",
    "        \n",
    "        return activations\n",
    "    \n",
    "    def activation_old(self, pattern): \n",
    "        \"\"\"Gauss simplified e^(-beta(x-mu)^2). Calculates for each row\"\"\"\n",
    "        activations = np.e**(np.multiply(-1*self.beta, (pattern-self.prototypes)**2))\n",
    "        \n",
    "        #summed_activations np.sum(activations[:,0],activations[:,1])\n",
    "        #Set biggest activation to 1\n",
    "        #Endast EN weight ska uppdateras\n",
    "        bestActivationIndex = np.argmax(activations)\n",
    "        activations = np.zeros_like(activations)\n",
    "        activations[bestActivationIndex]=1\n",
    "        \n",
    "        return activations\n",
    "        \n",
    "    #Predict\n",
    "    def run(self, patterns):\n",
    "        res = np.zeros(patterns.shape)\n",
    "        c = 0\n",
    "        for x in patterns:\n",
    "            activations = self.activation(x)\n",
    "            res[c] = sum(np.multiply(self.weights, activations))\n",
    "            #print(res[c])\n",
    "            #print(np.dot(self.weights.T, activations))\n",
    "            #res[c] = np.dot(self.weights.T, activations)\n",
    "            c += 1\n",
    "        return res\n",
    "\n",
    "    def residualError(self, patterns, targets):\n",
    "        \"\"\"Calculates residual error\"\"\"\n",
    "        res = self.run(patterns)\n",
    "        diff = np.absolute(res-targets)\n",
    "        return np.average(diff)\n",
    "    "
   ]
  },
  {
   "cell_type": "code",
   "execution_count": null,
   "metadata": {
    "collapsed": false
   },
   "outputs": [],
   "source": []
  },
  {
   "cell_type": "code",
   "execution_count": 9,
   "metadata": {
    "collapsed": false
   },
   "outputs": [
    {
     "data": {
      "image/png": "[encoded data removed]",
      "text/plain": [
       "<matplotlib.figure.Figure at 0x118230b70>"
      ]
     },
     "metadata": {},
     "output_type": "display_data"
    }
   ],
   "source": [
    "index = np.linspace(0, train_X.shape[0]-1, num = 20, dtype= int)\n",
    "b = DeltaRule(train_X, train_y,train_X[index], 0.01, 100)"
   ]
  },
  {
   "cell_type": "code",
   "execution_count": 10,
   "metadata": {
    "collapsed": false
   },
   "outputs": [
    {
     "data": {
      "image/png": "[encoded data removed]",
      "text/plain": [
       "<matplotlib.figure.Figure at 0x118881ac8>"
      ]
     },
     "metadata": {},
     "output_type": "display_data"
    },
    {
     "name": "stdout",
     "output_type": "stream",
     "text": [
      "Residual error:  0.200556345401\n"
     ]
    }
   ],
   "source": [
    "plt.scatter(train_y[:,0],train_y[:,1],color=\"r\")\n",
    "plt.scatter(b.run(train_X)[:,0],b.run(train_X)[:,1],color=\"b\")\n",
    "#plt.scatter(train_X, train_y,color=\"b\")\n",
    "#plt.plot(train_X[index], train_y[index], \"b+\")\n",
    "plt.title(\"Training data\")\n",
    "plt.show()\n",
    "print(\"Residual error: \", b.residualError(train_X, train_y))"
   ]
  },
  {
   "cell_type": "code",
   "execution_count": 14,
   "metadata": {
    "collapsed": false
   },
   "outputs": [
    {
     "data": {
      "image/png": "[encoded data removed]",
      "text/plain": [
       "<matplotlib.figure.Figure at 0x1187bc438>"
      ]
     },
     "metadata": {},
     "output_type": "display_data"
    },
    {
     "name": "stdout",
     "output_type": "stream",
     "text": [
      "Residual error:  0.219740900091\n"
     ]
    }
   ],
   "source": [
    "plt.scatter(test_y[:,0],test_y[:,1],color=\"r\")\n",
    "plt.scatter(b.run(test_X)[:,0],b.run(test_X)[:,1],color=\"b\")\n",
    "#plt.scatter(train_X, train_y,color=\"b\")\n",
    "#plt.plot(train_X[index], train_y[index], \"b+\")\n",
    "plt.title(\"Test data\")\n",
    "plt.show()\n",
    "print(\"Residual error: \", b.residualError(test_X, test_y))"
   ]
  },
  {
   "cell_type": "code",
   "execution_count": 18,
   "metadata": {
    "collapsed": false
   },
   "outputs": [
    {
     "name": "stdout",
     "output_type": "stream",
     "text": [
      "[[ 0.09675204  0.18129859]\n",
      " [ 0.20383049  0.08838692]\n",
      " [ 0.25661626  0.28028668]\n",
      " [ 0.20914806  0.25697189]\n",
      " [ 0.29715775  0.45816222]\n",
      " [ 0.07497054  0.01473844]\n",
      " [ 0.11491721  0.11266646]\n",
      " [ 0.20502799  0.09084601]\n",
      " [ 0.22475593  0.16401102]\n",
      " [ 0.09470324  0.12172166]\n",
      " [ 0.15880563  0.09548147]\n",
      " [ 0.07920766  0.03814786]\n",
      " [ 0.22423554  0.26613212]\n",
      " [ 0.08287436  0.05145015]\n",
      " [ 0.40391426  0.3383101 ]\n",
      " [ 0.39689539  0.36341617]\n",
      " [ 0.1802034   0.0363854 ]\n",
      " [ 0.02056207  0.18333845]\n",
      " [ 0.20031621  0.23798246]\n",
      " [ 0.3807736   0.44871355]]\n"
     ]
    }
   ],
   "source": [
    "print(b.weights)"
   ]
  },
  {
   "cell_type": "code",
   "execution_count": 16,
   "metadata": {
    "collapsed": false
   },
   "outputs": [
    {
     "data": {
      "image/png": "[encoded data removed]",
      "text/plain": [
       "<matplotlib.figure.Figure at 0x11822a3c8>"
      ]
     },
     "metadata": {},
     "output_type": "display_data"
    }
   ],
   "source": [
    "plt.scatter(b.weights[:,0],b.weights[:,1])\n",
    "plt.show()"
   ]
  },
  {
   "cell_type": "code",
   "execution_count": null,
   "metadata": {
    "collapsed": true
   },
   "outputs": [],
   "source": []
  }
 ],
 "metadata": {
  "kernelspec": {
   "display_name": "Python 3",
   "language": "python",
   "name": "python3"
  },
  "language_info": {
   "codemirror_mode": {
    "name": "ipython",
    "version": 3
   },
   "file_extension": ".py",
   "mimetype": "text/x-python",
   "name": "python",
   "nbconvert_exporter": "python",
   "pygments_lexer": "ipython3",
   "version": "3.6.0"
  }
 },
 "nbformat": 4,
 "nbformat_minor": 2
}
