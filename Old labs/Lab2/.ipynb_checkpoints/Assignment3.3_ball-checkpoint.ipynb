{
 "cells": [
  {
   "cell_type": "code",
   "execution_count": 52,
   "metadata": {
    "collapsed": true
   },
   "outputs": [],
   "source": [
    "import numpy as np\n",
    "import matplotlib.pyplot as plt\n",
    "from scipy import signal\n",
    "import math,random\n",
    "np.random.seed(42)"
   ]
  },
  {
   "cell_type": "code",
   "execution_count": 53,
   "metadata": {
    "collapsed": true
   },
   "outputs": [],
   "source": [
    "#Read data\n",
    "trainData = np.loadtxt('./data_lab2/ballist.dat')\n",
    "testData = np.loadtxt('./data_lab2/ballist.dat')\n",
    "\n",
    "train_X = trainData[:,:2]\n",
    "train_y = trainData[:,2:]\n",
    "\n",
    "test_X = testData[:,:2]\n",
    "test_y = testData[:,2:]"
   ]
  },
  {
   "cell_type": "code",
   "execution_count": 54,
   "metadata": {
    "collapsed": false
   },
   "outputs": [
    {
     "data": {
      "text/plain": [
       "array([ 0.896,  0.54 ])"
      ]
     },
     "execution_count": 54,
     "metadata": {},
     "output_type": "execute_result"
    }
   ],
   "source": [
    "train_X[0]"
   ]
  },
  {
   "cell_type": "code",
   "execution_count": 55,
   "metadata": {
    "collapsed": false
   },
   "outputs": [
    {
     "data": {
      "image/png": "[encoded data removed]",
      "text/plain": [
       "<matplotlib.figure.Figure at 0x11510e588>"
      ]
     },
     "metadata": {},
     "output_type": "display_data"
    }
   ],
   "source": [
    "plt.scatter(train_X[:,0],train_X[:,1])\n",
    "plt.show()"
   ]
  },
  {
   "cell_type": "code",
   "execution_count": 56,
   "metadata": {
    "collapsed": false
   },
   "outputs": [
    {
     "data": {
      "image/png": "[encoded data removed]",
      "text/plain": [
       "<matplotlib.figure.Figure at 0x1149f1940>"
      ]
     },
     "metadata": {},
     "output_type": "display_data"
    }
   ],
   "source": [
    "plt.scatter(train_y[:,0],train_y[:,1])\n",
    "plt.show()"
   ]
  },
  {
   "cell_type": "code",
   "execution_count": 89,
   "metadata": {
    "collapsed": false
   },
   "outputs": [],
   "source": [
    "class DeltaRule:\n",
    "    def __init__(self, train, trainTarget, prototypes, step=0.01, maxEpoch=200):\n",
    "        self.train = train\n",
    "        self.trainTarget = trainTarget\n",
    "        self.prototypes = prototypes\n",
    "        self.nodes = prototypes.size\n",
    "        self.step = step\n",
    "        self.beta = np.ones(self.prototypes.size) #Variance - now set to equal for all\n",
    "        self.weights = np.ones(self.prototypes.shape)\n",
    "        self.epoch = 0\n",
    "        self.maxEpoch = maxEpoch\n",
    "        self.errThreshold = 0.1\n",
    "        self.mainLoop()\n",
    "        \n",
    "    def mainLoop(self):\n",
    "        while self.epoch < self.maxEpoch:\n",
    "            for j in range(self.train.shape[0]):\n",
    "                #i next int\n",
    "                i = random.randint(0,self.train.shape[0]-1) \n",
    "                self.weights += self.deltaWeights(i)\n",
    "                if self.residualError(self.train, self.trainTarget) < self.errThreshold:\n",
    "                    return\n",
    "            self.epoch += 1\n",
    "            #if self.epoch%20 == 0:\n",
    "            plt.plot(self.epoch, self.residualError(self.train, self.trainTarget),marker=\"o\", color=\"b\")\n",
    "        plt.show()\n",
    "            \n",
    "            \n",
    "    def deltaWeights(self, index):\n",
    "        #a - Kanske upphöjt till två?\n",
    "        activations = self.activation(self.train[index])\n",
    "        #a = self.trainTarget[index] - np.dot(activations, self.weights)\n",
    "        a = self.trainTarget[index] - np.multiply(activations, self.weights)\n",
    "        print(\"A-shape: \",a)\n",
    "        b = self.step * a\n",
    "        delta_w = b * self.activation(self.train[index])\n",
    "        \n",
    "        return delta_w\n",
    "    \n",
    "    def activation(self, pattern): \n",
    "        \"\"\"Gauss simplified e^(-beta(x-mu)^2). Calculates for each row\"\"\"\n",
    "        activations = np.e**(np.multiply(-1, (pattern-self.prototypes)**2)) \n",
    "        #3 vikter ska uppdateras        \n",
    "        #1a\n",
    "        bestActivationIndex1 = np.argmax(activations[0])\n",
    "        activations[bestActivationIndex1]=0\n",
    "        \n",
    "        #2a\n",
    "        bestActivationIndex2 = np.argmax(activations[1])\n",
    "        activations[bestActivationIndex2]=0\n",
    "        \n",
    "        activations = np.zeros_like(activations)\n",
    "        activations[bestActivationIndex1]=[1,1]\n",
    "        activations[bestActivationIndex2]=[1,1]\n",
    "        return activations\n",
    "    \n",
    "    def activation_old(self, pattern): \n",
    "        \"\"\"Gauss simplified e^(-beta(x-mu)^2). Calculates for each row\"\"\"\n",
    "        activations = np.e**(np.multiply(-1*self.beta, (pattern-self.prototypes)**2))\n",
    "        \n",
    "        #summed_activations np.sum(activations[:,0],activations[:,1])\n",
    "        #Set biggest activation to 1\n",
    "        #Endast EN weight ska uppdateras\n",
    "        bestActivationIndex = np.argmax(activations)\n",
    "        activations = np.zeros_like(activations)\n",
    "        activations[bestActivationIndex]=1\n",
    "        \n",
    "        return activations\n",
    "        \n",
    "    #Predict\n",
    "    def run(self, patterns):\n",
    "        res = np.zeros(patterns.shape)\n",
    "        c = 0\n",
    "        for x in patterns:\n",
    "            activations = self.activation(x)\n",
    "            print(activations.shape)\n",
    "            print(self.weights.shape)\n",
    "            #res[c] = sum(np.multiply(self.weights, activations))\n",
    "            print(np.dot(self.weights.T, activations))\n",
    "            res[c] = np.dot(self.weights.T, activations)\n",
    "            c += 1\n",
    "        return res\n",
    "\n",
    "    def residualError(self, patterns, targets):\n",
    "        \"\"\"Calculates residual error\"\"\"\n",
    "        res = self.run(patterns)\n",
    "        diff = np.absolute(res-targets)\n",
    "        return np.average(diff)\n",
    "    "
   ]
  },
  {
   "cell_type": "code",
   "execution_count": null,
   "metadata": {
    "collapsed": false
   },
   "outputs": [],
   "source": []
  },
  {
   "cell_type": "code",
   "execution_count": 90,
   "metadata": {
    "collapsed": false
   },
   "outputs": [
    {
     "name": "stdout",
     "output_type": "stream",
     "text": [
      "A-shape:  [[-0.651 -0.668]\n",
      " [-0.651 -0.668]\n",
      " [ 0.349  0.332]\n",
      " [ 0.349  0.332]\n",
      " [ 0.349  0.332]\n",
      " [ 0.349  0.332]\n",
      " [ 0.349  0.332]\n",
      " [ 0.349  0.332]\n",
      " [ 0.349  0.332]\n",
      " [ 0.349  0.332]\n",
      " [ 0.349  0.332]\n",
      " [ 0.349  0.332]\n",
      " [ 0.349  0.332]\n",
      " [ 0.349  0.332]\n",
      " [ 0.349  0.332]\n",
      " [ 0.349  0.332]\n",
      " [ 0.349  0.332]\n",
      " [ 0.349  0.332]\n",
      " [ 0.349  0.332]\n",
      " [ 0.349  0.332]]\n",
      "(20, 2)\n",
      "(20, 2)\n",
      "[[ 1.98698  1.98698]\n",
      " [ 1.98664  1.98664]]\n"
     ]
    },
    {
     "ename": "ValueError",
     "evalue": "could not broadcast input array from shape (2,2) into shape (2)",
     "output_type": "error",
     "traceback": [
      "\u001b[0;31m---------------------------------------------------------------------------\u001b[0m",
      "\u001b[0;31mValueError\u001b[0m                                Traceback (most recent call last)",
      "\u001b[0;32m<ipython-input-90-78cc51dc873c>\u001b[0m in \u001b[0;36m<module>\u001b[0;34m()\u001b[0m\n\u001b[1;32m      1\u001b[0m \u001b[0mindex\u001b[0m \u001b[0;34m=\u001b[0m \u001b[0mnp\u001b[0m\u001b[0;34m.\u001b[0m\u001b[0mlinspace\u001b[0m\u001b[0;34m(\u001b[0m\u001b[0;36m0\u001b[0m\u001b[0;34m,\u001b[0m \u001b[0mtrain_X\u001b[0m\u001b[0;34m.\u001b[0m\u001b[0mshape\u001b[0m\u001b[0;34m[\u001b[0m\u001b[0;36m0\u001b[0m\u001b[0;34m]\u001b[0m\u001b[0;34m-\u001b[0m\u001b[0;36m1\u001b[0m\u001b[0;34m,\u001b[0m \u001b[0mnum\u001b[0m \u001b[0;34m=\u001b[0m \u001b[0;36m20\u001b[0m\u001b[0;34m,\u001b[0m \u001b[0mdtype\u001b[0m\u001b[0;34m=\u001b[0m \u001b[0mint\u001b[0m\u001b[0;34m)\u001b[0m\u001b[0;34m\u001b[0m\u001b[0m\n\u001b[0;32m----> 2\u001b[0;31m \u001b[0mb\u001b[0m \u001b[0;34m=\u001b[0m \u001b[0mDeltaRule\u001b[0m\u001b[0;34m(\u001b[0m\u001b[0mtrain_X\u001b[0m\u001b[0;34m,\u001b[0m \u001b[0mtrain_y\u001b[0m\u001b[0;34m,\u001b[0m\u001b[0mtrain_X\u001b[0m\u001b[0;34m[\u001b[0m\u001b[0mindex\u001b[0m\u001b[0;34m]\u001b[0m\u001b[0;34m,\u001b[0m \u001b[0;36m0.01\u001b[0m\u001b[0;34m,\u001b[0m \u001b[0;36m100\u001b[0m\u001b[0;34m)\u001b[0m\u001b[0;34m\u001b[0m\u001b[0m\n\u001b[0m\u001b[1;32m      3\u001b[0m \u001b[0;34m\u001b[0m\u001b[0m\n\u001b[1;32m      4\u001b[0m \u001b[0;34m\u001b[0m\u001b[0m\n",
      "\u001b[0;32m<ipython-input-89-c8255e89c1f0>\u001b[0m in \u001b[0;36m__init__\u001b[0;34m(self, train, trainTarget, prototypes, step, maxEpoch)\u001b[0m\n\u001b[1;32m     11\u001b[0m         \u001b[0mself\u001b[0m\u001b[0;34m.\u001b[0m\u001b[0mmaxEpoch\u001b[0m \u001b[0;34m=\u001b[0m \u001b[0mmaxEpoch\u001b[0m\u001b[0;34m\u001b[0m\u001b[0m\n\u001b[1;32m     12\u001b[0m         \u001b[0mself\u001b[0m\u001b[0;34m.\u001b[0m\u001b[0merrThreshold\u001b[0m \u001b[0;34m=\u001b[0m \u001b[0;36m0.1\u001b[0m\u001b[0;34m\u001b[0m\u001b[0m\n\u001b[0;32m---> 13\u001b[0;31m         \u001b[0mself\u001b[0m\u001b[0;34m.\u001b[0m\u001b[0mmainLoop\u001b[0m\u001b[0;34m(\u001b[0m\u001b[0;34m)\u001b[0m\u001b[0;34m\u001b[0m\u001b[0m\n\u001b[0m\u001b[1;32m     14\u001b[0m \u001b[0;34m\u001b[0m\u001b[0m\n\u001b[1;32m     15\u001b[0m     \u001b[0;32mdef\u001b[0m \u001b[0mmainLoop\u001b[0m\u001b[0;34m(\u001b[0m\u001b[0mself\u001b[0m\u001b[0;34m)\u001b[0m\u001b[0;34m:\u001b[0m\u001b[0;34m\u001b[0m\u001b[0m\n",
      "\u001b[0;32m<ipython-input-89-c8255e89c1f0>\u001b[0m in \u001b[0;36mmainLoop\u001b[0;34m(self)\u001b[0m\n\u001b[1;32m     19\u001b[0m                 \u001b[0mi\u001b[0m \u001b[0;34m=\u001b[0m \u001b[0mrandom\u001b[0m\u001b[0;34m.\u001b[0m\u001b[0mrandint\u001b[0m\u001b[0;34m(\u001b[0m\u001b[0;36m0\u001b[0m\u001b[0;34m,\u001b[0m\u001b[0mself\u001b[0m\u001b[0;34m.\u001b[0m\u001b[0mtrain\u001b[0m\u001b[0;34m.\u001b[0m\u001b[0mshape\u001b[0m\u001b[0;34m[\u001b[0m\u001b[0;36m0\u001b[0m\u001b[0;34m]\u001b[0m\u001b[0;34m-\u001b[0m\u001b[0;36m1\u001b[0m\u001b[0;34m)\u001b[0m\u001b[0;34m\u001b[0m\u001b[0m\n\u001b[1;32m     20\u001b[0m                 \u001b[0mself\u001b[0m\u001b[0;34m.\u001b[0m\u001b[0mweights\u001b[0m \u001b[0;34m+=\u001b[0m \u001b[0mself\u001b[0m\u001b[0;34m.\u001b[0m\u001b[0mdeltaWeights\u001b[0m\u001b[0;34m(\u001b[0m\u001b[0mi\u001b[0m\u001b[0;34m)\u001b[0m\u001b[0;34m\u001b[0m\u001b[0m\n\u001b[0;32m---> 21\u001b[0;31m                 \u001b[0;32mif\u001b[0m \u001b[0mself\u001b[0m\u001b[0;34m.\u001b[0m\u001b[0mresidualError\u001b[0m\u001b[0;34m(\u001b[0m\u001b[0mself\u001b[0m\u001b[0;34m.\u001b[0m\u001b[0mtrain\u001b[0m\u001b[0;34m,\u001b[0m \u001b[0mself\u001b[0m\u001b[0;34m.\u001b[0m\u001b[0mtrainTarget\u001b[0m\u001b[0;34m)\u001b[0m \u001b[0;34m<\u001b[0m \u001b[0mself\u001b[0m\u001b[0;34m.\u001b[0m\u001b[0merrThreshold\u001b[0m\u001b[0;34m:\u001b[0m\u001b[0;34m\u001b[0m\u001b[0m\n\u001b[0m\u001b[1;32m     22\u001b[0m                     \u001b[0;32mreturn\u001b[0m\u001b[0;34m\u001b[0m\u001b[0m\n\u001b[1;32m     23\u001b[0m             \u001b[0mself\u001b[0m\u001b[0;34m.\u001b[0m\u001b[0mepoch\u001b[0m \u001b[0;34m+=\u001b[0m \u001b[0;36m1\u001b[0m\u001b[0;34m\u001b[0m\u001b[0m\n",
      "\u001b[0;32m<ipython-input-89-c8255e89c1f0>\u001b[0m in \u001b[0;36mresidualError\u001b[0;34m(self, patterns, targets)\u001b[0m\n\u001b[1;32m     84\u001b[0m     \u001b[0;32mdef\u001b[0m \u001b[0mresidualError\u001b[0m\u001b[0;34m(\u001b[0m\u001b[0mself\u001b[0m\u001b[0;34m,\u001b[0m \u001b[0mpatterns\u001b[0m\u001b[0;34m,\u001b[0m \u001b[0mtargets\u001b[0m\u001b[0;34m)\u001b[0m\u001b[0;34m:\u001b[0m\u001b[0;34m\u001b[0m\u001b[0m\n\u001b[1;32m     85\u001b[0m         \u001b[0;34m\"\"\"Calculates residual error\"\"\"\u001b[0m\u001b[0;34m\u001b[0m\u001b[0m\n\u001b[0;32m---> 86\u001b[0;31m         \u001b[0mres\u001b[0m \u001b[0;34m=\u001b[0m \u001b[0mself\u001b[0m\u001b[0;34m.\u001b[0m\u001b[0mrun\u001b[0m\u001b[0;34m(\u001b[0m\u001b[0mpatterns\u001b[0m\u001b[0;34m)\u001b[0m\u001b[0;34m\u001b[0m\u001b[0m\n\u001b[0m\u001b[1;32m     87\u001b[0m         \u001b[0mdiff\u001b[0m \u001b[0;34m=\u001b[0m \u001b[0mnp\u001b[0m\u001b[0;34m.\u001b[0m\u001b[0mabsolute\u001b[0m\u001b[0;34m(\u001b[0m\u001b[0mres\u001b[0m\u001b[0;34m-\u001b[0m\u001b[0mtargets\u001b[0m\u001b[0;34m)\u001b[0m\u001b[0;34m\u001b[0m\u001b[0m\n\u001b[1;32m     88\u001b[0m         \u001b[0;32mreturn\u001b[0m \u001b[0mnp\u001b[0m\u001b[0;34m.\u001b[0m\u001b[0maverage\u001b[0m\u001b[0;34m(\u001b[0m\u001b[0mdiff\u001b[0m\u001b[0;34m)\u001b[0m\u001b[0;34m\u001b[0m\u001b[0m\n",
      "\u001b[0;32m<ipython-input-89-c8255e89c1f0>\u001b[0m in \u001b[0;36mrun\u001b[0;34m(self, patterns)\u001b[0m\n\u001b[1;32m     78\u001b[0m             \u001b[0;31m#res[c] = sum(np.multiply(self.weights, activations))\u001b[0m\u001b[0;34m\u001b[0m\u001b[0;34m\u001b[0m\u001b[0m\n\u001b[1;32m     79\u001b[0m             \u001b[0mprint\u001b[0m\u001b[0;34m(\u001b[0m\u001b[0mnp\u001b[0m\u001b[0;34m.\u001b[0m\u001b[0mdot\u001b[0m\u001b[0;34m(\u001b[0m\u001b[0mself\u001b[0m\u001b[0;34m.\u001b[0m\u001b[0mweights\u001b[0m\u001b[0;34m.\u001b[0m\u001b[0mT\u001b[0m\u001b[0;34m,\u001b[0m \u001b[0mactivations\u001b[0m\u001b[0;34m)\u001b[0m\u001b[0;34m)\u001b[0m\u001b[0;34m\u001b[0m\u001b[0m\n\u001b[0;32m---> 80\u001b[0;31m             \u001b[0mres\u001b[0m\u001b[0;34m[\u001b[0m\u001b[0mc\u001b[0m\u001b[0;34m]\u001b[0m \u001b[0;34m=\u001b[0m \u001b[0mnp\u001b[0m\u001b[0;34m.\u001b[0m\u001b[0mdot\u001b[0m\u001b[0;34m(\u001b[0m\u001b[0mself\u001b[0m\u001b[0;34m.\u001b[0m\u001b[0mweights\u001b[0m\u001b[0;34m.\u001b[0m\u001b[0mT\u001b[0m\u001b[0;34m,\u001b[0m \u001b[0mactivations\u001b[0m\u001b[0;34m)\u001b[0m\u001b[0;34m\u001b[0m\u001b[0m\n\u001b[0m\u001b[1;32m     81\u001b[0m             \u001b[0mc\u001b[0m \u001b[0;34m+=\u001b[0m \u001b[0;36m1\u001b[0m\u001b[0;34m\u001b[0m\u001b[0m\n\u001b[1;32m     82\u001b[0m         \u001b[0;32mreturn\u001b[0m \u001b[0mres\u001b[0m\u001b[0;34m\u001b[0m\u001b[0m\n",
      "\u001b[0;31mValueError\u001b[0m: could not broadcast input array from shape (2,2) into shape (2)"
     ]
    }
   ],
   "source": [
    "index = np.linspace(0, train_X.shape[0]-1, num = 20, dtype= int)\n",
    "b = DeltaRule(train_X, train_y,train_X[index], 0.01, 100)\n",
    "              \n",
    "              "
   ]
  },
  {
   "cell_type": "code",
   "execution_count": null,
   "metadata": {
    "collapsed": true
   },
   "outputs": [],
   "source": []
  }
 ],
 "metadata": {
  "kernelspec": {
   "display_name": "Python 3",
   "language": "python",
   "name": "python3"
  },
  "language_info": {
   "codemirror_mode": {
    "name": "ipython",
    "version": 3
   },
   "file_extension": ".py",
   "mimetype": "text/x-python",
   "name": "python",
   "nbconvert_exporter": "python",
   "pygments_lexer": "ipython3",
   "version": "3.6.0"
  }
 },
 "nbformat": 4,
 "nbformat_minor": 2
}
