{
 "cells": [
  {
   "cell_type": "code",
   "execution_count": 2,
   "metadata": {
    "collapsed": true
   },
   "outputs": [],
   "source": [
    "import numpy as np\n",
    "import matplotlib.pyplot as plt\n",
    "from matplotlib.path import Path\n",
    "indata = np.loadtxt('./data_lab2/cities.dat',delimiter=\",\",skiprows=4,dtype=str)\n",
    "\n",
    "for i in range(indata.shape[0]):\n",
    "    #row = row.strip(\";\")\n",
    "    indata[i][1] = indata[i][1].strip(\";\")\n",
    "\n",
    "indata = indata.astype(float)"
   ]
  },
  {
   "cell_type": "code",
   "execution_count": 3,
   "metadata": {},
   "outputs": [
    {
     "data": {
      "image/png": "[encoded data removed]",
      "text/plain": [
       "<matplotlib.figure.Figure at 0x110e9d860>"
      ]
     },
     "metadata": {},
     "output_type": "display_data"
    }
   ],
   "source": [
    "plt.scatter(indata[:,0],indata[:,1])\n",
    "plt.show()"
   ]
  },
  {
   "cell_type": "code",
   "execution_count": 4,
   "metadata": {
    "collapsed": true
   },
   "outputs": [],
   "source": [
    "def init_weights():\n",
    "    np.random.seed(42)\n",
    "    weights = np.random.rand(10,2)\n",
    "    return weights\n",
    "\n",
    "weights = init_weights()"
   ]
  },
  {
   "cell_type": "code",
   "execution_count": 5,
   "metadata": {},
   "outputs": [
    {
     "name": "stdout",
     "output_type": "stream",
     "text": [
      "[[0 0.24390000000000001 0.14630000000000001]\n",
      " [1 0.17069999999999999 0.2293]\n",
      " [2 0.40000000000000002 0.44390000000000002]\n",
      " [3 0.2293 0.76100000000000001]\n",
      " [4 0.5171 0.94140000000000001]\n",
      " [5 0.87319999999999998 0.65359999999999996]\n",
      " [6 0.68779999999999997 0.52190000000000003]\n",
      " [7 0.8488 0.3609]\n",
      " [8 0.66830000000000001 0.25359999999999999]\n",
      " [9 0.61950000000000005 0.26340000000000002]]\n"
     ]
    },
    {
     "data": {
      "image/png": "[encoded data removed]",
      "text/plain": [
       "<matplotlib.figure.Figure at 0x112799780>"
      ]
     },
     "metadata": {},
     "output_type": "display_data"
    }
   ],
   "source": [
    "#Calculates similarity between a pattern (animal) and weights, choses the weightnode with smallest distance\n",
    "def similarity(indata):\n",
    "    winner = 1000\n",
    "    winnerNode=0\n",
    "    for i in range(weights.shape[0]):\n",
    "        sub = np.subtract(indata,weights[i])\n",
    "        sim = np.dot(sub.T,sub)\n",
    "        if sim < winner:\n",
    "            winner = sim\n",
    "            winnerNode=i\n",
    "    return winnerNode\n",
    "            \n",
    "#Takes the index of the winner node, uses the window to call update weight function for\n",
    "#appropriate neighbours\n",
    "def getNeighbours(size, winner, ind): \n",
    "    indexes = []\n",
    "    \n",
    "    if(size>0):\n",
    "        for i in range(winner-size,winner+size):\n",
    "            tmp = i%10\n",
    "            indexes.append(tmp)\n",
    "    else:\n",
    "        indexes.append(winner)\n",
    "        \n",
    "    indexes = np.array(indexes)\n",
    "    updateWeights(indexes, ind)\n",
    "\n",
    "#Updates weight W[i]\n",
    "def updateWeights(weightIndex, ind, eta = 0.2):\n",
    "    for i in np.nditer(weightIndex):\n",
    "        weights[i] = weights[i] + eta*(np.subtract(ind,weights[i]))\n",
    "\n",
    "#Trains a SOM\n",
    "def trainSOM(epochs=20):\n",
    "    size = 2 #Size of neighbourhood\n",
    "    #For each pattern in indata\n",
    "    for epoch in range(epochs): #20 is standard\n",
    "        for i in range(indata.shape[0]):\n",
    "            winnerNode=similarity(indata[i]) #Find best node\n",
    "            getNeighbours(size, winnerNode, indata[i]) #Get list of neighbours with winnerNode in center\n",
    "        \n",
    "        #Update size of neighbourhood\n",
    "        if epochs<15:\n",
    "            size=1\n",
    "        elif epochs<10:\n",
    "            size = 0\n",
    "    \n",
    "#Creates a SOM based on training and plots tour\n",
    "def predictSOM():\n",
    "    pos=[]\n",
    "    #Loop through animals\n",
    "    for i in range(indata.shape[0]):\n",
    "            winnerNode=similarity(indata[i]) #Find best node\n",
    "            pos.append([winnerNode,indata[i][0],indata[i][1]])\n",
    "        \n",
    "    pos = np.array(pos,dtype=object)\n",
    "    pos = pos[pos[:,0].argsort()]\n",
    "    print(pos)\n",
    "    \n",
    "    #for i in range(pos.shape[0]):\n",
    "    plt.plot(pos[:,1],pos[:,2],linestyle='-', marker='o',color=\"b\")\n",
    "    #path = Path(pos[:,1:])\n",
    "    #plt.plot(path) #spara denna\n",
    "    plt.show()\n",
    "    \n",
    "        \n",
    "trainSOM()       \n",
    "predictSOM()\n",
    "    \n",
    "#Visualize this later      "
   ]
  },
  {
   "cell_type": "code",
   "execution_count": null,
   "metadata": {
    "collapsed": true
   },
   "outputs": [],
   "source": []
  }
 ],
 "metadata": {
  "kernelspec": {
   "display_name": "Python 3",
   "language": "python",
   "name": "python3"
  },
  "language_info": {
   "codemirror_mode": {
    "name": "ipython",
    "version": 3
   },
   "file_extension": ".py",
   "mimetype": "text/x-python",
   "name": "python",
   "nbconvert_exporter": "python",
   "pygments_lexer": "ipython3",
   "version": "3.6.1"
  }
 },
 "nbformat": 4,
 "nbformat_minor": 2
}
