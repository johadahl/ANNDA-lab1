{
 "cells": [
  {
   "cell_type": "code",
   "execution_count": 40,
   "metadata": {
    "collapsed": true
   },
   "outputs": [],
   "source": [
    "import numpy as np\n",
    "import pandas as pd\n",
    "import matplotlib.pyplot as plt\n",
    "from sklearn.neural_network import BernoulliRBM\n",
    "\n",
    "from sklearn.pipeline import Pipeline\n",
    "from sklearn.linear_model import LogisticRegression\n",
    "from sklearn import metrics\n",
    "from sklearn.neural_network import MLPClassifier"
   ]
  },
  {
   "cell_type": "code",
   "execution_count": 41,
   "metadata": {
    "collapsed": true
   },
   "outputs": [],
   "source": [
    "X_train = pd.read_csv(\"MNIST_data/bindigit_trn.csv\",header=None,dtype=np.float32).as_matrix()\n",
    "y_train = pd.read_csv(\"MNIST_data/targetdigit_trn.csv\",header=None,names=[\"Label\"],dtype=np.float32).as_matrix()\n",
    "\n",
    "X_test = pd.read_csv(\"MNIST_data/bindigit_tst.csv\",header=None,dtype=np.float32).as_matrix()\n",
    "y_test = pd.read_csv(\"MNIST_data/targetdigit_tst.csv\",header=None,names=[\"Label\"],dtype=np.float32).as_matrix()"
   ]
  },
  {
   "cell_type": "code",
   "execution_count": 42,
   "metadata": {
    "collapsed": false
   },
   "outputs": [],
   "source": [
    "y_train = y_train.reshape(8000,)\n",
    "y_test = y_test.reshape(2000,)"
   ]
  },
  {
   "cell_type": "code",
   "execution_count": 43,
   "metadata": {
    "collapsed": false
   },
   "outputs": [],
   "source": [
    "epochs = 100\n",
    "\n",
    "rbm_layer1 = BernoulliRBM(n_components=150, learning_rate=0.01,n_iter=epochs,\n",
    "                     batch_size=64, random_state=42,verbose=True)\n",
    "\n",
    "rbm_layer2 = BernoulliRBM(n_components=100, learning_rate=0.01,n_iter=epochs,\n",
    "                     batch_size=64, random_state=42,verbose=True)\n",
    "\n",
    "rbm_layer3 = BernoulliRBM(n_components=50, learning_rate=0.01,n_iter=epochs,\n",
    "                     batch_size=64, random_state=42,verbose=True)\n",
    "\n",
    "nn = MLPClassifier(hidden_layer_sizes=(100,),\n",
    "                   activation='relu', solver='adam',alpha=0.01)\n",
    "#logistic1 = LogisticRegression(C=100,verbose=True)\n",
    "#logistic2 = LogisticRegression(C=100,verbose=True)\n",
    "#classifier = Pipeline(steps=[('rbm1', rbm_layer1),('mlp',nn)])\n",
    "#classifier = Pipeline(steps=[('rbm1', rbm_layer1),('rbm2',rbm_layer2),('rbm3',rbm_layer3),('mlp',nn)])\n",
    "classifier = Pipeline(steps=[('rbm1', rbm_layer1),('rbm2',rbm_layer2),('mlp',nn)])\n",
    "#classifier = Pipeline(steps=[('rbm1', rbm_layer1),('logistic',logistic1)])\n",
    "\n"
   ]
  },
  {
   "cell_type": "code",
   "execution_count": 44,
   "metadata": {
    "collapsed": false
   },
   "outputs": [],
   "source": [
    "#logistic2.fit(X_train,y_train)"
   ]
  },
  {
   "cell_type": "code",
   "execution_count": 45,
   "metadata": {
    "collapsed": false
   },
   "outputs": [
    {
     "name": "stdout",
     "output_type": "stream",
     "text": [
      "[BernoulliRBM] Iteration 1, pseudo-likelihood = -290.29, time = 0.71s\n",
      "[BernoulliRBM] Iteration 2, pseudo-likelihood = -245.07, time = 0.98s\n",
      "[BernoulliRBM] Iteration 3, pseudo-likelihood = -198.32, time = 0.92s\n",
      "[BernoulliRBM] Iteration 4, pseudo-likelihood = -183.22, time = 0.92s\n",
      "[BernoulliRBM] Iteration 5, pseudo-likelihood = -171.19, time = 1.00s\n",
      "[BernoulliRBM] Iteration 6, pseudo-likelihood = -162.72, time = 0.99s\n",
      "[BernoulliRBM] Iteration 7, pseudo-likelihood = -156.87, time = 1.03s\n",
      "[BernoulliRBM] Iteration 8, pseudo-likelihood = -152.39, time = 0.93s\n",
      "[BernoulliRBM] Iteration 9, pseudo-likelihood = -148.09, time = 0.96s\n",
      "[BernoulliRBM] Iteration 10, pseudo-likelihood = -145.17, time = 0.92s\n",
      "[BernoulliRBM] Iteration 11, pseudo-likelihood = -142.37, time = 0.96s\n",
      "[BernoulliRBM] Iteration 12, pseudo-likelihood = -139.79, time = 1.05s\n",
      "[BernoulliRBM] Iteration 13, pseudo-likelihood = -137.43, time = 1.19s\n",
      "[BernoulliRBM] Iteration 14, pseudo-likelihood = -135.00, time = 1.07s\n",
      "[BernoulliRBM] Iteration 15, pseudo-likelihood = -132.67, time = 0.94s\n",
      "[BernoulliRBM] Iteration 16, pseudo-likelihood = -130.02, time = 1.40s\n",
      "[BernoulliRBM] Iteration 17, pseudo-likelihood = -128.64, time = 1.06s\n",
      "[BernoulliRBM] Iteration 18, pseudo-likelihood = -126.69, time = 0.94s\n",
      "[BernoulliRBM] Iteration 19, pseudo-likelihood = -125.47, time = 0.94s\n",
      "[BernoulliRBM] Iteration 20, pseudo-likelihood = -124.10, time = 1.04s\n",
      "[BernoulliRBM] Iteration 21, pseudo-likelihood = -122.22, time = 0.93s\n",
      "[BernoulliRBM] Iteration 22, pseudo-likelihood = -121.29, time = 1.02s\n",
      "[BernoulliRBM] Iteration 23, pseudo-likelihood = -119.89, time = 1.03s\n",
      "[BernoulliRBM] Iteration 24, pseudo-likelihood = -119.12, time = 0.96s\n",
      "[BernoulliRBM] Iteration 25, pseudo-likelihood = -117.74, time = 1.15s\n",
      "[BernoulliRBM] Iteration 26, pseudo-likelihood = -116.81, time = 0.97s\n",
      "[BernoulliRBM] Iteration 27, pseudo-likelihood = -115.74, time = 0.98s\n",
      "[BernoulliRBM] Iteration 28, pseudo-likelihood = -114.59, time = 1.04s\n",
      "[BernoulliRBM] Iteration 29, pseudo-likelihood = -113.10, time = 0.96s\n",
      "[BernoulliRBM] Iteration 30, pseudo-likelihood = -112.23, time = 0.94s\n",
      "[BernoulliRBM] Iteration 31, pseudo-likelihood = -111.33, time = 1.03s\n",
      "[BernoulliRBM] Iteration 32, pseudo-likelihood = -110.49, time = 1.03s\n",
      "[BernoulliRBM] Iteration 33, pseudo-likelihood = -109.56, time = 0.92s\n",
      "[BernoulliRBM] Iteration 34, pseudo-likelihood = -109.02, time = 1.04s\n",
      "[BernoulliRBM] Iteration 35, pseudo-likelihood = -108.03, time = 1.06s\n",
      "[BernoulliRBM] Iteration 36, pseudo-likelihood = -107.41, time = 0.93s\n",
      "[BernoulliRBM] Iteration 37, pseudo-likelihood = -107.01, time = 1.04s\n",
      "[BernoulliRBM] Iteration 38, pseudo-likelihood = -105.83, time = 0.93s\n",
      "[BernoulliRBM] Iteration 39, pseudo-likelihood = -105.50, time = 0.93s\n",
      "[BernoulliRBM] Iteration 40, pseudo-likelihood = -104.71, time = 1.20s\n",
      "[BernoulliRBM] Iteration 41, pseudo-likelihood = -104.48, time = 1.19s\n",
      "[BernoulliRBM] Iteration 42, pseudo-likelihood = -103.44, time = 1.11s\n",
      "[BernoulliRBM] Iteration 43, pseudo-likelihood = -103.16, time = 1.02s\n",
      "[BernoulliRBM] Iteration 44, pseudo-likelihood = -102.46, time = 1.09s\n",
      "[BernoulliRBM] Iteration 45, pseudo-likelihood = -102.00, time = 1.05s\n",
      "[BernoulliRBM] Iteration 46, pseudo-likelihood = -101.71, time = 1.03s\n",
      "[BernoulliRBM] Iteration 47, pseudo-likelihood = -100.82, time = 1.09s\n",
      "[BernoulliRBM] Iteration 48, pseudo-likelihood = -100.42, time = 1.19s\n",
      "[BernoulliRBM] Iteration 49, pseudo-likelihood = -99.94, time = 1.10s\n",
      "[BernoulliRBM] Iteration 50, pseudo-likelihood = -99.44, time = 1.02s\n",
      "[BernoulliRBM] Iteration 51, pseudo-likelihood = -98.79, time = 1.04s\n",
      "[BernoulliRBM] Iteration 52, pseudo-likelihood = -99.16, time = 1.02s\n",
      "[BernoulliRBM] Iteration 53, pseudo-likelihood = -97.74, time = 1.03s\n",
      "[BernoulliRBM] Iteration 54, pseudo-likelihood = -97.99, time = 1.04s\n",
      "[BernoulliRBM] Iteration 55, pseudo-likelihood = -97.37, time = 1.02s\n",
      "[BernoulliRBM] Iteration 56, pseudo-likelihood = -96.93, time = 1.04s\n",
      "[BernoulliRBM] Iteration 57, pseudo-likelihood = -96.42, time = 1.04s\n",
      "[BernoulliRBM] Iteration 58, pseudo-likelihood = -96.20, time = 1.04s\n",
      "[BernoulliRBM] Iteration 59, pseudo-likelihood = -95.82, time = 1.03s\n",
      "[BernoulliRBM] Iteration 60, pseudo-likelihood = -95.48, time = 1.03s\n",
      "[BernoulliRBM] Iteration 61, pseudo-likelihood = -94.88, time = 1.05s\n",
      "[BernoulliRBM] Iteration 62, pseudo-likelihood = -94.85, time = 1.03s\n",
      "[BernoulliRBM] Iteration 63, pseudo-likelihood = -94.45, time = 1.02s\n",
      "[BernoulliRBM] Iteration 64, pseudo-likelihood = -94.06, time = 1.04s\n",
      "[BernoulliRBM] Iteration 65, pseudo-likelihood = -94.08, time = 1.04s\n",
      "[BernoulliRBM] Iteration 66, pseudo-likelihood = -93.30, time = 1.04s\n",
      "[BernoulliRBM] Iteration 67, pseudo-likelihood = -93.26, time = 1.05s\n",
      "[BernoulliRBM] Iteration 68, pseudo-likelihood = -92.67, time = 1.07s\n",
      "[BernoulliRBM] Iteration 69, pseudo-likelihood = -92.21, time = 1.05s\n",
      "[BernoulliRBM] Iteration 70, pseudo-likelihood = -91.97, time = 1.07s\n",
      "[BernoulliRBM] Iteration 71, pseudo-likelihood = -92.10, time = 1.05s\n",
      "[BernoulliRBM] Iteration 72, pseudo-likelihood = -91.46, time = 1.04s\n",
      "[BernoulliRBM] Iteration 73, pseudo-likelihood = -91.47, time = 1.05s\n",
      "[BernoulliRBM] Iteration 74, pseudo-likelihood = -91.41, time = 0.96s\n",
      "[BernoulliRBM] Iteration 75, pseudo-likelihood = -91.29, time = 1.05s\n",
      "[BernoulliRBM] Iteration 76, pseudo-likelihood = -90.76, time = 1.03s\n",
      "[BernoulliRBM] Iteration 77, pseudo-likelihood = -90.25, time = 1.13s\n",
      "[BernoulliRBM] Iteration 78, pseudo-likelihood = -90.03, time = 1.08s\n",
      "[BernoulliRBM] Iteration 79, pseudo-likelihood = -89.59, time = 1.06s\n",
      "[BernoulliRBM] Iteration 80, pseudo-likelihood = -89.70, time = 1.03s\n",
      "[BernoulliRBM] Iteration 81, pseudo-likelihood = -89.03, time = 1.03s\n",
      "[BernoulliRBM] Iteration 82, pseudo-likelihood = -89.14, time = 1.04s\n",
      "[BernoulliRBM] Iteration 83, pseudo-likelihood = -88.81, time = 1.07s\n",
      "[BernoulliRBM] Iteration 84, pseudo-likelihood = -88.85, time = 1.04s\n",
      "[BernoulliRBM] Iteration 85, pseudo-likelihood = -88.68, time = 1.04s\n",
      "[BernoulliRBM] Iteration 86, pseudo-likelihood = -88.10, time = 1.04s\n",
      "[BernoulliRBM] Iteration 87, pseudo-likelihood = -87.62, time = 1.04s\n",
      "[BernoulliRBM] Iteration 88, pseudo-likelihood = -87.64, time = 1.06s\n",
      "[BernoulliRBM] Iteration 89, pseudo-likelihood = -87.11, time = 1.05s\n",
      "[BernoulliRBM] Iteration 90, pseudo-likelihood = -86.91, time = 1.05s\n",
      "[BernoulliRBM] Iteration 91, pseudo-likelihood = -86.87, time = 1.04s\n",
      "[BernoulliRBM] Iteration 92, pseudo-likelihood = -86.39, time = 1.07s\n",
      "[BernoulliRBM] Iteration 93, pseudo-likelihood = -86.63, time = 1.05s\n",
      "[BernoulliRBM] Iteration 94, pseudo-likelihood = -86.68, time = 1.12s\n",
      "[BernoulliRBM] Iteration 95, pseudo-likelihood = -85.84, time = 1.06s\n",
      "[BernoulliRBM] Iteration 96, pseudo-likelihood = -85.87, time = 1.04s\n",
      "[BernoulliRBM] Iteration 97, pseudo-likelihood = -85.41, time = 1.06s\n",
      "[BernoulliRBM] Iteration 98, pseudo-likelihood = -85.56, time = 1.04s\n",
      "[BernoulliRBM] Iteration 99, pseudo-likelihood = -85.54, time = 1.06s\n",
      "[BernoulliRBM] Iteration 100, pseudo-likelihood = -85.61, time = 1.06s\n",
      "[BernoulliRBM] Iteration 1, pseudo-likelihood = -88.41, time = 0.20s\n",
      "[BernoulliRBM] Iteration 2, pseudo-likelihood = -88.06, time = 0.24s\n",
      "[BernoulliRBM] Iteration 3, pseudo-likelihood = -86.78, time = 0.27s\n",
      "[BernoulliRBM] Iteration 4, pseudo-likelihood = -83.55, time = 0.26s\n",
      "[BernoulliRBM] Iteration 5, pseudo-likelihood = -79.06, time = 0.26s\n",
      "[BernoulliRBM] Iteration 6, pseudo-likelihood = -75.20, time = 0.27s\n",
      "[BernoulliRBM] Iteration 7, pseudo-likelihood = -72.54, time = 0.35s\n",
      "[BernoulliRBM] Iteration 8, pseudo-likelihood = -70.61, time = 0.37s\n",
      "[BernoulliRBM] Iteration 9, pseudo-likelihood = -68.32, time = 0.33s\n",
      "[BernoulliRBM] Iteration 10, pseudo-likelihood = -66.16, time = 0.33s\n",
      "[BernoulliRBM] Iteration 11, pseudo-likelihood = -64.04, time = 0.26s\n",
      "[BernoulliRBM] Iteration 12, pseudo-likelihood = -62.42, time = 0.28s\n",
      "[BernoulliRBM] Iteration 13, pseudo-likelihood = -60.98, time = 0.24s\n",
      "[BernoulliRBM] Iteration 14, pseudo-likelihood = -59.64, time = 0.26s\n",
      "[BernoulliRBM] Iteration 15, pseudo-likelihood = -58.57, time = 0.26s\n",
      "[BernoulliRBM] Iteration 16, pseudo-likelihood = -57.54, time = 0.25s\n",
      "[BernoulliRBM] Iteration 17, pseudo-likelihood = -56.66, time = 0.24s\n",
      "[BernoulliRBM] Iteration 18, pseudo-likelihood = -56.08, time = 0.24s\n",
      "[BernoulliRBM] Iteration 19, pseudo-likelihood = -55.33, time = 0.23s\n",
      "[BernoulliRBM] Iteration 20, pseudo-likelihood = -54.77, time = 0.23s\n",
      "[BernoulliRBM] Iteration 21, pseudo-likelihood = -54.05, time = 0.24s\n",
      "[BernoulliRBM] Iteration 22, pseudo-likelihood = -53.53, time = 0.24s\n",
      "[BernoulliRBM] Iteration 23, pseudo-likelihood = -52.77, time = 0.24s\n",
      "[BernoulliRBM] Iteration 24, pseudo-likelihood = -52.33, time = 0.23s\n",
      "[BernoulliRBM] Iteration 25, pseudo-likelihood = -51.81, time = 0.24s\n",
      "[BernoulliRBM] Iteration 26, pseudo-likelihood = -51.24, time = 0.24s\n",
      "[BernoulliRBM] Iteration 27, pseudo-likelihood = -50.68, time = 0.24s\n",
      "[BernoulliRBM] Iteration 28, pseudo-likelihood = -50.25, time = 0.24s\n",
      "[BernoulliRBM] Iteration 29, pseudo-likelihood = -49.83, time = 0.24s\n",
      "[BernoulliRBM] Iteration 30, pseudo-likelihood = -49.30, time = 0.25s\n",
      "[BernoulliRBM] Iteration 31, pseudo-likelihood = -48.75, time = 0.24s\n",
      "[BernoulliRBM] Iteration 32, pseudo-likelihood = -48.41, time = 0.24s\n",
      "[BernoulliRBM] Iteration 33, pseudo-likelihood = -48.00, time = 0.24s\n",
      "[BernoulliRBM] Iteration 34, pseudo-likelihood = -47.49, time = 0.25s\n",
      "[BernoulliRBM] Iteration 35, pseudo-likelihood = -47.12, time = 0.35s\n",
      "[BernoulliRBM] Iteration 36, pseudo-likelihood = -46.64, time = 0.24s\n",
      "[BernoulliRBM] Iteration 37, pseudo-likelihood = -46.37, time = 0.24s\n",
      "[BernoulliRBM] Iteration 38, pseudo-likelihood = -46.01, time = 0.24s\n",
      "[BernoulliRBM] Iteration 39, pseudo-likelihood = -45.72, time = 0.24s\n",
      "[BernoulliRBM] Iteration 40, pseudo-likelihood = -45.28, time = 0.23s\n",
      "[BernoulliRBM] Iteration 41, pseudo-likelihood = -45.02, time = 0.24s\n",
      "[BernoulliRBM] Iteration 42, pseudo-likelihood = -44.69, time = 0.23s\n",
      "[BernoulliRBM] Iteration 43, pseudo-likelihood = -44.44, time = 0.24s\n",
      "[BernoulliRBM] Iteration 44, pseudo-likelihood = -44.13, time = 0.24s\n",
      "[BernoulliRBM] Iteration 45, pseudo-likelihood = -43.84, time = 0.24s\n",
      "[BernoulliRBM] Iteration 46, pseudo-likelihood = -43.48, time = 0.24s\n",
      "[BernoulliRBM] Iteration 47, pseudo-likelihood = -43.15, time = 0.24s\n",
      "[BernoulliRBM] Iteration 48, pseudo-likelihood = -43.04, time = 0.24s\n",
      "[BernoulliRBM] Iteration 49, pseudo-likelihood = -42.86, time = 0.24s\n",
      "[BernoulliRBM] Iteration 50, pseudo-likelihood = -42.53, time = 0.24s\n",
      "[BernoulliRBM] Iteration 51, pseudo-likelihood = -42.24, time = 0.24s\n",
      "[BernoulliRBM] Iteration 52, pseudo-likelihood = -42.01, time = 0.24s\n",
      "[BernoulliRBM] Iteration 53, pseudo-likelihood = -41.87, time = 0.24s\n",
      "[BernoulliRBM] Iteration 54, pseudo-likelihood = -41.59, time = 0.24s\n",
      "[BernoulliRBM] Iteration 55, pseudo-likelihood = -41.64, time = 0.24s\n",
      "[BernoulliRBM] Iteration 56, pseudo-likelihood = -41.33, time = 0.24s\n",
      "[BernoulliRBM] Iteration 57, pseudo-likelihood = -41.05, time = 0.25s\n",
      "[BernoulliRBM] Iteration 58, pseudo-likelihood = -41.06, time = 0.24s\n",
      "[BernoulliRBM] Iteration 59, pseudo-likelihood = -40.68, time = 0.24s\n",
      "[BernoulliRBM] Iteration 60, pseudo-likelihood = -40.48, time = 0.24s\n",
      "[BernoulliRBM] Iteration 61, pseudo-likelihood = -40.28, time = 0.24s\n",
      "[BernoulliRBM] Iteration 62, pseudo-likelihood = -40.23, time = 0.24s\n",
      "[BernoulliRBM] Iteration 63, pseudo-likelihood = -40.04, time = 0.24s\n",
      "[BernoulliRBM] Iteration 64, pseudo-likelihood = -39.95, time = 0.24s\n",
      "[BernoulliRBM] Iteration 65, pseudo-likelihood = -39.63, time = 0.24s\n",
      "[BernoulliRBM] Iteration 66, pseudo-likelihood = -39.55, time = 0.24s\n",
      "[BernoulliRBM] Iteration 67, pseudo-likelihood = -39.33, time = 0.24s\n",
      "[BernoulliRBM] Iteration 68, pseudo-likelihood = -39.14, time = 0.24s\n",
      "[BernoulliRBM] Iteration 69, pseudo-likelihood = -39.10, time = 0.24s\n",
      "[BernoulliRBM] Iteration 70, pseudo-likelihood = -38.92, time = 0.24s\n",
      "[BernoulliRBM] Iteration 71, pseudo-likelihood = -38.92, time = 0.24s\n",
      "[BernoulliRBM] Iteration 72, pseudo-likelihood = -38.72, time = 0.24s\n",
      "[BernoulliRBM] Iteration 73, pseudo-likelihood = -38.55, time = 0.24s\n",
      "[BernoulliRBM] Iteration 74, pseudo-likelihood = -38.56, time = 0.24s\n",
      "[BernoulliRBM] Iteration 75, pseudo-likelihood = -38.24, time = 0.24s\n",
      "[BernoulliRBM] Iteration 76, pseudo-likelihood = -38.17, time = 0.24s\n",
      "[BernoulliRBM] Iteration 77, pseudo-likelihood = -38.11, time = 0.24s\n",
      "[BernoulliRBM] Iteration 78, pseudo-likelihood = -37.89, time = 0.24s\n",
      "[BernoulliRBM] Iteration 79, pseudo-likelihood = -37.84, time = 0.24s\n",
      "[BernoulliRBM] Iteration 80, pseudo-likelihood = -37.70, time = 0.24s\n",
      "[BernoulliRBM] Iteration 81, pseudo-likelihood = -37.62, time = 0.24s\n",
      "[BernoulliRBM] Iteration 82, pseudo-likelihood = -37.46, time = 0.24s\n",
      "[BernoulliRBM] Iteration 83, pseudo-likelihood = -37.28, time = 0.24s\n",
      "[BernoulliRBM] Iteration 84, pseudo-likelihood = -37.24, time = 0.24s\n",
      "[BernoulliRBM] Iteration 85, pseudo-likelihood = -36.98, time = 0.24s\n",
      "[BernoulliRBM] Iteration 86, pseudo-likelihood = -37.09, time = 0.24s\n",
      "[BernoulliRBM] Iteration 87, pseudo-likelihood = -37.14, time = 0.24s\n",
      "[BernoulliRBM] Iteration 88, pseudo-likelihood = -36.85, time = 0.24s\n",
      "[BernoulliRBM] Iteration 89, pseudo-likelihood = -36.76, time = 0.24s\n",
      "[BernoulliRBM] Iteration 90, pseudo-likelihood = -36.65, time = 0.24s\n",
      "[BernoulliRBM] Iteration 91, pseudo-likelihood = -36.51, time = 0.24s\n",
      "[BernoulliRBM] Iteration 92, pseudo-likelihood = -36.46, time = 0.24s\n",
      "[BernoulliRBM] Iteration 93, pseudo-likelihood = -36.38, time = 0.24s\n",
      "[BernoulliRBM] Iteration 94, pseudo-likelihood = -36.21, time = 0.24s\n",
      "[BernoulliRBM] Iteration 95, pseudo-likelihood = -36.25, time = 0.24s\n",
      "[BernoulliRBM] Iteration 96, pseudo-likelihood = -36.14, time = 0.24s\n",
      "[BernoulliRBM] Iteration 97, pseudo-likelihood = -36.10, time = 0.24s\n",
      "[BernoulliRBM] Iteration 98, pseudo-likelihood = -35.97, time = 0.24s\n",
      "[BernoulliRBM] Iteration 99, pseudo-likelihood = -35.85, time = 0.24s\n",
      "[BernoulliRBM] Iteration 100, pseudo-likelihood = -35.80, time = 0.29s\n"
     ]
    },
    {
     "data": {
      "text/plain": [
       "Pipeline(memory=None,\n",
       "     steps=[('rbm1', BernoulliRBM(batch_size=64, learning_rate=0.01, n_components=150, n_iter=100,\n",
       "       random_state=42, verbose=True)), ('rbm2', BernoulliRBM(batch_size=64, learning_rate=0.01, n_components=100, n_iter=100,\n",
       "       random_state=42, verbose=True)), ('mlp', MLPClassifier(activation='relu'...=True, solver='adam', tol=0.0001, validation_fraction=0.1,\n",
       "       verbose=False, warm_start=False))])"
      ]
     },
     "execution_count": 45,
     "metadata": {},
     "output_type": "execute_result"
    }
   ],
   "source": [
    "classifier.fit(X_train,y_train)"
   ]
  },
  {
   "cell_type": "code",
   "execution_count": 46,
   "metadata": {
    "collapsed": false
   },
   "outputs": [
    {
     "name": "stdout",
     "output_type": "stream",
     "text": [
      "MLP classifier with pretrained RBM features:\n",
      "             precision    recall  f1-score   support\n",
      "\n",
      "        0.0       0.99      0.97      0.98       196\n",
      "        1.0       0.99      0.98      0.98       227\n",
      "        2.0       0.93      0.96      0.95       206\n",
      "        3.0       0.94      0.91      0.92       202\n",
      "        4.0       0.93      0.95      0.94       196\n",
      "        5.0       0.95      0.90      0.92       182\n",
      "        6.0       0.96      0.99      0.98       191\n",
      "        7.0       0.95      0.95      0.95       205\n",
      "        8.0       0.93      0.94      0.94       194\n",
      "        9.0       0.94      0.95      0.94       201\n",
      "\n",
      "avg / total       0.95      0.95      0.95      2000\n",
      "\n",
      "\n",
      "Accuracy: 0.951\n",
      "\n",
      "\n"
     ]
    },
    {
     "data": {
      "text/plain": [
       "'\\nprint(\"Logistic regression using raw pixel features:\\n%s\\n\" % (\\n    metrics.classification_report(\\n        y_test,\\n        logistic2.predict(X_test))))\\nprint(\"Accuracy:\",metrics.accuracy_score(y_test,logistic2.predict(X_test)))\\n'"
      ]
     },
     "execution_count": 46,
     "metadata": {},
     "output_type": "execute_result"
    }
   ],
   "source": [
    "print(\"MLP classifier with pretrained RBM features:\\n%s\\n\" % (\n",
    "    metrics.classification_report(\n",
    "        y_test,\n",
    "        classifier.predict(X_test))))\n",
    "\n",
    "print(\"Accuracy:\",metrics.accuracy_score(y_test,classifier.predict(X_test)))\n",
    "print(\"\\n\")\n",
    "\"\"\"\n",
    "print(\"Logistic regression using raw pixel features:\\n%s\\n\" % (\n",
    "    metrics.classification_report(\n",
    "        y_test,\n",
    "        logistic2.predict(X_test))))\n",
    "print(\"Accuracy:\",metrics.accuracy_score(y_test,logistic2.predict(X_test)))\n",
    "\"\"\""
   ]
  },
  {
   "cell_type": "code",
   "execution_count": null,
   "metadata": {
    "collapsed": true
   },
   "outputs": [],
   "source": []
  }
 ],
 "metadata": {
  "kernelspec": {
   "display_name": "Python 3",
   "language": "python",
   "name": "python3"
  },
  "language_info": {
   "codemirror_mode": {
    "name": "ipython",
    "version": 3
   },
   "file_extension": ".py",
   "mimetype": "text/x-python",
   "name": "python",
   "nbconvert_exporter": "python",
   "pygments_lexer": "ipython3",
   "version": "3.6.0"
  }
 },
 "nbformat": 4,
 "nbformat_minor": 2
}
