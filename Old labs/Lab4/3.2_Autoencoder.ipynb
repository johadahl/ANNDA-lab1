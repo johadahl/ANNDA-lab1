{
 "cells": [
  {
   "cell_type": "code",
   "execution_count": 107,
   "metadata": {
    "collapsed": false
   },
   "outputs": [],
   "source": [
    "import numpy as np\n",
    "import pandas as pd\n",
    "import matplotlib.pyplot as plt\n",
    "from sklearn.linear_model import LogisticRegression\n",
    "import sknn.ae as sa\n",
    "from sklearn import metrics\n",
    "\n",
    "from keras.layers import Input, Dense\n",
    "from keras.models import Model\n",
    "from sklearn.pipeline import Pipeline\n",
    "from keras.wrappers.scikit_learn import KerasClassifier\n",
    "from keras.wrappers.scikit_learn import KerasRegressor\n",
    "from keras.models import Sequential\n",
    "from keras.utils import to_categorical"
   ]
  },
  {
   "cell_type": "code",
   "execution_count": 108,
   "metadata": {
    "collapsed": false
   },
   "outputs": [],
   "source": [
    "X_train = pd.read_csv(\"MNIST_data/bindigit_trn.csv\",header=None).as_matrix()\n",
    "y_train = pd.read_csv(\"MNIST_data/targetdigit_trn.csv\",header=None,names=[\"Label\"]).as_matrix()\n",
    "\n",
    "X_test = pd.read_csv(\"MNIST_data/bindigit_tst.csv\",header=None).as_matrix()\n",
    "y_test = pd.read_csv(\"MNIST_data/targetdigit_tst.csv\",header=None,names=[\"Label\"]).as_matrix()"
   ]
  },
  {
   "cell_type": "code",
   "execution_count": 141,
   "metadata": {
    "collapsed": false
   },
   "outputs": [],
   "source": [
    "def plotWeights(weights):\n",
    "    n = weights.shape[0]  # how many digits we will display\n",
    "    plt.figure(figsize=(20, 20))\n",
    "    for i in range(n):\n",
    "        # display weights\n",
    "        ax = plt.subplot(10, 10, i + 1)\n",
    "        plt.imshow(weights[i].reshape(10, 10))\n",
    "        #plt.gray()\n",
    "        ax.get_xaxis().set_visible(False)\n",
    "        ax.get_yaxis().set_visible(False)\n",
    "    plt.show()"
   ]
  },
  {
   "cell_type": "code",
   "execution_count": 110,
   "metadata": {
    "collapsed": false
   },
   "outputs": [],
   "source": [
    "#autoencoder = sa.AutoEncoder(layers)"
   ]
  },
  {
   "cell_type": "code",
   "execution_count": null,
   "metadata": {
    "collapsed": false
   },
   "outputs": [],
   "source": []
  },
  {
   "cell_type": "code",
   "execution_count": 111,
   "metadata": {
    "collapsed": false
   },
   "outputs": [
    {
     "data": {
      "text/plain": [
       "\"\\ninput_img = Input(shape=(784,))\\nencoded = Dense(150, activation='relu')(input_img) #1st hidden layer\\nencoded = Dense(50, activation='relu')(encoded) #2nd hidden layer\\n\\ndecoded = Dense(150, activation='relu')(encoded)\\ndecoded = Dense(784, activation='sigmoid')(encoded)\\n\\nautoencoder = Model(input_img,encoded)\\n\\nautoencoder.compile(optimizer='adadelta', loss='mean_squared_error')\\n\""
      ]
     },
     "execution_count": 111,
     "metadata": {},
     "output_type": "execute_result"
    }
   ],
   "source": [
    "'''\n",
    "input_img = Input(shape=(784,))\n",
    "encoded = Dense(150, activation='relu')(input_img) #1st hidden layer\n",
    "encoded = Dense(50, activation='relu')(encoded) #2nd hidden layer\n",
    "\n",
    "decoded = Dense(150, activation='relu')(encoded)\n",
    "decoded = Dense(784, activation='sigmoid')(encoded)\n",
    "\n",
    "autoencoder = Model(input_img,encoded)\n",
    "\n",
    "autoencoder.compile(optimizer='adadelta', loss='mean_squared_error')\n",
    "'''"
   ]
  },
  {
   "cell_type": "code",
   "execution_count": 112,
   "metadata": {
    "collapsed": false
   },
   "outputs": [
    {
     "data": {
      "text/plain": [
       "'\\nautoencoder.fit(X_train,X_train,\\n               epochs=20,\\n               batch_size=64,\\n               shuffle=True,\\n               verbose=0,\\n                validation_data=(X_test, X_test))\\n                '"
      ]
     },
     "execution_count": 112,
     "metadata": {},
     "output_type": "execute_result"
    }
   ],
   "source": [
    "'''\n",
    "autoencoder.fit(X_train,X_train,\n",
    "               epochs=20,\n",
    "               batch_size=64,\n",
    "               shuffle=True,\n",
    "               verbose=0,\n",
    "                validation_data=(X_test, X_test))\n",
    "                '''"
   ]
  },
  {
   "cell_type": "code",
   "execution_count": null,
   "metadata": {
    "collapsed": true
   },
   "outputs": [],
   "source": []
  },
  {
   "cell_type": "code",
   "execution_count": 113,
   "metadata": {
    "collapsed": false
   },
   "outputs": [
    {
     "data": {
      "text/plain": [
       "'\\nencoder = Model(input_img,encoded)\\npred = encoder.predict(X_train)\\n'"
      ]
     },
     "execution_count": 113,
     "metadata": {},
     "output_type": "execute_result"
    }
   ],
   "source": [
    "'''\n",
    "encoder = Model(input_img,encoded)\n",
    "pred = encoder.predict(X_train)\n",
    "'''"
   ]
  },
  {
   "cell_type": "code",
   "execution_count": 114,
   "metadata": {
    "collapsed": false
   },
   "outputs": [
    {
     "data": {
      "text/plain": [
       "'\\nlogistic = LogisticRegression(C=100,verbose=True)\\nlogistic.fit(pred,y_train)\\n'"
      ]
     },
     "execution_count": 114,
     "metadata": {},
     "output_type": "execute_result"
    }
   ],
   "source": [
    "'''\n",
    "logistic = LogisticRegression(C=100,verbose=True)\n",
    "logistic.fit(pred,y_train)\n",
    "'''"
   ]
  },
  {
   "cell_type": "code",
   "execution_count": 115,
   "metadata": {
    "collapsed": false
   },
   "outputs": [
    {
     "data": {
      "text/plain": [
       "'\\npred_encoded = encoder.predict(X_test)\\npredicted = logistic.predict(pred_encoded)\\n'"
      ]
     },
     "execution_count": 115,
     "metadata": {},
     "output_type": "execute_result"
    }
   ],
   "source": [
    "'''\n",
    "pred_encoded = encoder.predict(X_test)\n",
    "predicted = logistic.predict(pred_encoded)\n",
    "'''"
   ]
  },
  {
   "cell_type": "code",
   "execution_count": null,
   "metadata": {
    "collapsed": false
   },
   "outputs": [],
   "source": []
  },
  {
   "cell_type": "code",
   "execution_count": 116,
   "metadata": {
    "collapsed": false
   },
   "outputs": [
    {
     "data": {
      "text/plain": [
       "'\\nprint(\"Logistic regression using Autoencoder features:\\n%s\\n\" %\\n      metrics.classification_report(y_test,predicted))\\n\\nprint(\"Accuracy:\",metrics.accuracy_score(y_test,predicted))\\nprint(\"\\n\")\\n'"
      ]
     },
     "execution_count": 116,
     "metadata": {},
     "output_type": "execute_result"
    }
   ],
   "source": [
    "'''\n",
    "print(\"Logistic regression using Autoencoder features:\\n%s\\n\" %\n",
    "      metrics.classification_report(y_test,predicted))\n",
    "\n",
    "print(\"Accuracy:\",metrics.accuracy_score(y_test,predicted))\n",
    "print(\"\\n\")\n",
    "'''"
   ]
  },
  {
   "cell_type": "markdown",
   "metadata": {
    "collapsed": false
   },
   "source": [
    "## Alternative version with perceptron classification"
   ]
  },
  {
   "cell_type": "code",
   "execution_count": 117,
   "metadata": {
    "collapsed": false
   },
   "outputs": [],
   "source": [
    "input_img = Input(shape=(784,))\n",
    "encoded1 = Dense(150, activation='relu')(input_img) #1st hidden layer\n",
    "encoded2 = Dense(100, activation='relu')(encoded1) #2nd hidden layer\n",
    "encoded3 = Dense(50, activation='relu')(encoded2) #3d hidden layer\n",
    "decoded1 = Dense(100, activation='relu')(encoded3)\n",
    "decoded2 = Dense(150, activation='relu')(decoded1)\n",
    "decoded3 = Dense(784, activation='sigmoid')(decoded2)\n",
    "\n",
    "autoencoder = Model(input_img,decoded3)\n",
    "\n",
    "autoencoder.compile(optimizer='adadelta', loss='mean_squared_error')"
   ]
  },
  {
   "cell_type": "code",
   "execution_count": 118,
   "metadata": {
    "collapsed": false
   },
   "outputs": [
    {
     "data": {
      "text/plain": [
       "<keras.callbacks.History at 0x1234e0630>"
      ]
     },
     "execution_count": 118,
     "metadata": {},
     "output_type": "execute_result"
    }
   ],
   "source": [
    "autoencoder.fit(X_train,X_train,\n",
    "               epochs=20,\n",
    "               batch_size=64,\n",
    "               shuffle=True,\n",
    "               verbose=0,\n",
    "                validation_data=(X_test, X_test))"
   ]
  },
  {
   "cell_type": "code",
   "execution_count": 119,
   "metadata": {
    "collapsed": false
   },
   "outputs": [],
   "source": [
    "hidden = Dense(50, activation='relu')(encoded2)\n",
    "out = Dense(10, activation='sigmoid')(hidden)\n",
    "classifier = Model(input_img,out)\n",
    "classifier.compile(optimizer='adadelta', loss='mean_squared_error')"
   ]
  },
  {
   "cell_type": "code",
   "execution_count": 120,
   "metadata": {
    "collapsed": false
   },
   "outputs": [
    {
     "data": {
      "text/plain": [
       "<keras.callbacks.History at 0x11f4777b8>"
      ]
     },
     "execution_count": 120,
     "metadata": {},
     "output_type": "execute_result"
    }
   ],
   "source": [
    "y_train = to_categorical(y_train, num_classes=10)\n",
    "classifier.fit(X_train,y_train,\n",
    "               epochs=50,\n",
    "               batch_size=64,\n",
    "               shuffle=True,\n",
    "               verbose=0)"
   ]
  },
  {
   "cell_type": "code",
   "execution_count": 121,
   "metadata": {
    "collapsed": true
   },
   "outputs": [],
   "source": [
    "predictions = classifier.predict(X_test)\n",
    "pred = np.argmax(predictions,axis=1)"
   ]
  },
  {
   "cell_type": "code",
   "execution_count": 122,
   "metadata": {
    "collapsed": false
   },
   "outputs": [
    {
     "name": "stdout",
     "output_type": "stream",
     "text": [
      "Classification using NN:\n",
      "             precision    recall  f1-score   support\n",
      "\n",
      "          0       0.97      0.99      0.98       196\n",
      "          1       0.96      0.97      0.97       227\n",
      "          2       0.94      0.92      0.93       206\n",
      "          3       0.94      0.90      0.92       202\n",
      "          4       0.93      0.96      0.94       196\n",
      "          5       0.90      0.88      0.89       182\n",
      "          6       0.94      0.97      0.95       191\n",
      "          7       0.95      0.93      0.94       205\n",
      "          8       0.92      0.93      0.93       194\n",
      "          9       0.94      0.94      0.94       201\n",
      "\n",
      "avg / total       0.94      0.94      0.94      2000\n",
      "\n",
      "\n",
      "Accuracy: 0.9395\n",
      "\n",
      "\n"
     ]
    }
   ],
   "source": [
    "print(\"Classification using NN:\\n%s\\n\" %\n",
    "      metrics.classification_report(y_test,pred))\n",
    "\n",
    "print(\"Accuracy:\",metrics.accuracy_score(y_test,pred))\n",
    "print(\"\\n\")"
   ]
  },
  {
   "cell_type": "code",
   "execution_count": 140,
   "metadata": {
    "collapsed": true
   },
   "outputs": [],
   "source": [
    "weights = autoencoder.get_weights()"
   ]
  },
  {
   "cell_type": "code",
   "execution_count": 134,
   "metadata": {
    "collapsed": false
   },
   "outputs": [
    {
     "data": {
      "text/plain": [
       "(100, 50)"
      ]
     },
     "execution_count": 134,
     "metadata": {},
     "output_type": "execute_result"
    }
   ],
   "source": [
    "weights[4].shape"
   ]
  },
  {
   "cell_type": "code",
   "execution_count": 142,
   "metadata": {
    "collapsed": false,
    "scrolled": true
   },
   "outputs": [
    {
     "data": {
      "image/png": "[encoded data removed]",
      "text/plain": [
       "<matplotlib.figure.Figure at 0x11ff56b00>"
      ]
     },
     "metadata": {},
     "output_type": "display_data"
    }
   ],
   "source": [
    "plotWeights(weights[4].T)"
   ]
  },
  {
   "cell_type": "code",
   "execution_count": null,
   "metadata": {
    "collapsed": true
   },
   "outputs": [],
   "source": []
  }
 ],
 "metadata": {
  "kernelspec": {
   "display_name": "Python 3",
   "language": "python",
   "name": "python3"
  },
  "language_info": {
   "codemirror_mode": {
    "name": "ipython",
    "version": 3
   },
   "file_extension": ".py",
   "mimetype": "text/x-python",
   "name": "python",
   "nbconvert_exporter": "python",
   "pygments_lexer": "ipython3",
   "version": "3.6.0"
  }
 },
 "nbformat": 4,
 "nbformat_minor": 2
}
